{
 "cells": [
  {
   "cell_type": "code",
   "execution_count": 22,
   "outputs": [],
   "source": [
    "import pandas as pd\n",
    "import numpy as np\n",
    "\n",
    "data = pd.read_csv('data/sleep_health_clean.csv', sep=';')\n",
    "\n",
    "X = data.drop(columns=[\"Sleep Disorder\"], inplace=False)\n",
    "y = data[\"Sleep Disorder\"].values.reshape(-1, 1)"
   ],
   "metadata": {
    "collapsed": false,
    "ExecuteTime": {
     "end_time": "2023-08-20T15:22:14.336055100Z",
     "start_time": "2023-08-20T15:22:14.253726600Z"
    }
   }
  },
  {
   "cell_type": "code",
   "execution_count": 23,
   "outputs": [],
   "source": [
    "from sklearn.pipeline import Pipeline\n",
    "import joblib\n",
    "\n",
    "target_pipeline: Pipeline = joblib.load('data-pipelines-bin/target_pipeline')\n",
    "predictor_pipeline: Pipeline = joblib.load('data-pipelines-bin/predictor_pipeline')"
   ],
   "metadata": {
    "collapsed": false,
    "ExecuteTime": {
     "end_time": "2023-08-20T15:22:14.336055100Z",
     "start_time": "2023-08-20T15:22:14.289190800Z"
    }
   }
  },
  {
   "cell_type": "code",
   "execution_count": 24,
   "outputs": [],
   "source": [
    "X = predictor_pipeline.transform(X)"
   ],
   "metadata": {
    "collapsed": false,
    "ExecuteTime": {
     "end_time": "2023-08-20T15:22:14.336055100Z",
     "start_time": "2023-08-20T15:22:14.304784500Z"
    }
   }
  },
  {
   "cell_type": "code",
   "execution_count": 25,
   "outputs": [],
   "source": [
    "y = target_pipeline.transform(y)"
   ],
   "metadata": {
    "collapsed": false,
    "ExecuteTime": {
     "end_time": "2023-08-20T15:22:14.336055100Z",
     "start_time": "2023-08-20T15:22:14.320433Z"
    }
   }
  },
  {
   "cell_type": "code",
   "execution_count": 26,
   "outputs": [],
   "source": [
    "from sklearn.model_selection import train_test_split\n",
    "\n",
    "X_train, X_test, y_train, y_test = train_test_split(X,y, test_size=0.2, random_state=100, shuffle=True)"
   ],
   "metadata": {
    "collapsed": false,
    "ExecuteTime": {
     "end_time": "2023-08-20T15:22:14.351655500Z",
     "start_time": "2023-08-20T15:22:14.336055100Z"
    }
   }
  },
  {
   "cell_type": "code",
   "execution_count": 27,
   "outputs": [],
   "source": [
    "from keras_tuner import HyperParameters, GridSearch\n",
    "from keras.models import Model\n",
    "from keras.layers import Input,Dense\n",
    "from keras.callbacks import EarlyStopping\n",
    "from keras.losses import CategoricalCrossentropy\n",
    "from keras.metrics import CategoricalAccuracy\n",
    "from keras.optimizers import Adam"
   ],
   "metadata": {
    "collapsed": false,
    "ExecuteTime": {
     "end_time": "2023-08-20T15:22:14.398542700Z",
     "start_time": "2023-08-20T15:22:14.351655500Z"
    }
   }
  },
  {
   "cell_type": "code",
   "execution_count": 28,
   "outputs": [],
   "source": [
    "def model_builder(hp: HyperParameters) -> Model:\n",
    "    inputs = Input(shape=(21,), name='input', dtype=np.float32)\n",
    "    units1 = hp.Int('units1', min_value=8, max_value=64, step=4)\n",
    "    dense1 = Dense(units1,name='dense_1', activation='relu')(inputs)\n",
    "    units2 = hp.Int('units2', min_value=4, max_value=32, step=2)\n",
    "    dense2 = Dense(units2,name='dense_2', activation='relu')(dense1)\n",
    "    output1 = Dense(3,name='output',activation='softmax')(dense2)\n",
    "    model = Model(inputs = inputs, outputs = output1, name=\"sleep-health_classification\")\n",
    "    lr = hp.Float('learning_rate', min_value=1e-3,max_value=1e-2, step=1e-3)\n",
    "    model.compile(loss=CategoricalCrossentropy(name='loss'),\n",
    "                  optimizer=Adam(learning_rate=lr),\n",
    "                  metrics=[CategoricalAccuracy(name='accuracy')]\n",
    "                  )\n",
    "    return model"
   ],
   "metadata": {
    "collapsed": false,
    "ExecuteTime": {
     "end_time": "2023-08-20T15:22:14.398542700Z",
     "start_time": "2023-08-20T15:22:14.367298Z"
    }
   }
  },
  {
   "cell_type": "code",
   "execution_count": 29,
   "outputs": [],
   "source": [
    "early_stopping = EarlyStopping(monitor='loss',\n",
    "                               min_delta=0.05,  # najmanja promena u odnosu na prethodnu epohu\n",
    "                               patience=2,\n",
    "                               # broj epoha sa promenom manjom od delta vrednosti nakon ceka trening staje\n",
    "                               verbose=1,  # da prikaze zasto je trening zaustavljen\n",
    "                               restore_best_weights=True)"
   ],
   "metadata": {
    "collapsed": false,
    "ExecuteTime": {
     "end_time": "2023-08-20T15:22:14.398542700Z",
     "start_time": "2023-08-20T15:22:14.382919200Z"
    }
   }
  },
  {
   "cell_type": "code",
   "execution_count": 30,
   "outputs": [],
   "source": [
    "tuner = GridSearch(model_builder,objective='loss', seed=100)"
   ],
   "metadata": {
    "collapsed": false,
    "ExecuteTime": {
     "end_time": "2023-08-20T15:22:14.460997100Z",
     "start_time": "2023-08-20T15:22:14.398542700Z"
    }
   }
  },
  {
   "cell_type": "code",
   "execution_count": 31,
   "outputs": [],
   "source": [
    "# from keras.callbacks import ModelCheckpoint, EarlyStopping\n",
    "# \n",
    "# \n",
    "# checkpoint = ModelCheckpoint(\n",
    "#     weights_format,\n",
    "#     monitor='loss',  # loss je parametar treniranja\n",
    "#     verbose=0,  # 1 da prikazuje svaki callback, ne treba\n",
    "#     save_best_only=True,  # svaka iteracija pamti samo najbolje tezine\n",
    "#     mode='min'  # ako treba da se overwrituje fajl, zapamti sa manjim lossom\n",
    "# )"
   ],
   "metadata": {
    "collapsed": false,
    "ExecuteTime": {
     "end_time": "2023-08-20T15:22:14.476618700Z",
     "start_time": "2023-08-20T15:22:14.460997100Z"
    }
   }
  },
  {
   "cell_type": "code",
   "execution_count": 32,
   "outputs": [
    {
     "name": "stdout",
     "output_type": "stream",
     "text": [
      "Trial 2250 Complete [00h 00m 01s]\n",
      "loss: 0.34729084372520447\n",
      "\n",
      "Best loss So Far: 0.2818828523159027\n",
      "Total elapsed time: 00h 43m 55s\n",
      "INFO:tensorflow:Oracle triggered exit\n"
     ]
    }
   ],
   "source": [
    "tuner.search(X_train,y_train,epochs = 50, callbacks=[early_stopping])"
   ],
   "metadata": {
    "collapsed": false
   }
  },
  {
   "cell_type": "code",
   "execution_count": 33,
   "outputs": [],
   "source": [
    "best_hps=tuner.get_best_hyperparameters(num_trials=1)[0]"
   ],
   "metadata": {
    "collapsed": false,
    "ExecuteTime": {
     "end_time": "2023-08-20T16:06:09.447321Z",
     "start_time": "2023-08-20T16:06:09.431776300Z"
    }
   }
  },
  {
   "cell_type": "code",
   "execution_count": 34,
   "outputs": [],
   "source": [
    "hypermodel: Model = tuner.hypermodel.build(best_hps)"
   ],
   "metadata": {
    "collapsed": false,
    "ExecuteTime": {
     "end_time": "2023-08-20T16:06:09.503776Z",
     "start_time": "2023-08-20T16:06:09.447321Z"
    }
   }
  },
  {
   "cell_type": "code",
   "execution_count": 35,
   "outputs": [
    {
     "name": "stdout",
     "output_type": "stream",
     "text": [
      "Epoch 1/50\n",
      "8/8 [==============================] - 1s 20ms/step - loss: 0.7612 - accuracy: 0.7029 - val_loss: 0.5518 - val_accuracy: 0.8667\n",
      "Epoch 2/50\n",
      "8/8 [==============================] - 0s 7ms/step - loss: 0.4122 - accuracy: 0.8870 - val_loss: 0.5634 - val_accuracy: 0.9000\n",
      "Epoch 3/50\n",
      "8/8 [==============================] - 0s 4ms/step - loss: 0.3455 - accuracy: 0.9079 - val_loss: 0.5223 - val_accuracy: 0.9000\n",
      "Epoch 4/50\n",
      "8/8 [==============================] - 0s 4ms/step - loss: 0.3139 - accuracy: 0.9038 - val_loss: 0.5222 - val_accuracy: 0.9000\n",
      "Epoch 5/50\n",
      "8/8 [==============================] - 0s 4ms/step - loss: 0.2893 - accuracy: 0.9079 - val_loss: 0.5610 - val_accuracy: 0.9000\n",
      "Epoch 6/50\n",
      "8/8 [==============================] - 0s 4ms/step - loss: 0.2796 - accuracy: 0.9247 - val_loss: 0.5492 - val_accuracy: 0.9000\n",
      "Epoch 7/50\n",
      "1/8 [==>...........................] - ETA: 0s - loss: 0.3487 - accuracy: 0.8750Restoring model weights from the end of the best epoch: 5.\n",
      "8/8 [==============================] - 0s 4ms/step - loss: 0.2744 - accuracy: 0.9289 - val_loss: 0.5566 - val_accuracy: 0.9000\n",
      "Epoch 7: early stopping\n"
     ]
    }
   ],
   "source": [
    "history = hypermodel.fit(X_train, y_train, epochs=50, validation_split=0.2, shuffle = True,callbacks=[early_stopping], )\n"
   ],
   "metadata": {
    "collapsed": false,
    "ExecuteTime": {
     "end_time": "2023-08-20T16:06:10.412931600Z",
     "start_time": "2023-08-20T16:06:09.503776Z"
    }
   }
  },
  {
   "cell_type": "code",
   "execution_count": 36,
   "outputs": [
    {
     "name": "stdout",
     "output_type": "stream",
     "text": [
      "3/3 [==============================] - 0s 0s/step - loss: 0.4714 - accuracy: 0.9200\n"
     ]
    }
   ],
   "source": [
    "eval = hypermodel.evaluate(x=X_test,y=y_test)"
   ],
   "metadata": {
    "collapsed": false,
    "ExecuteTime": {
     "end_time": "2023-08-20T16:06:10.475330900Z",
     "start_time": "2023-08-20T16:06:10.412931600Z"
    }
   }
  },
  {
   "cell_type": "code",
   "execution_count": 37,
   "outputs": [
    {
     "data": {
      "text/plain": "[0.4714130759239197, 0.9200000166893005]"
     },
     "execution_count": 37,
     "metadata": {},
     "output_type": "execute_result"
    }
   ],
   "source": [
    "eval"
   ],
   "metadata": {
    "collapsed": false,
    "ExecuteTime": {
     "end_time": "2023-08-20T16:06:10.491033Z",
     "start_time": "2023-08-20T16:06:10.475330900Z"
    }
   }
  },
  {
   "cell_type": "code",
   "execution_count": 38,
   "outputs": [
    {
     "data": {
      "text/plain": "7"
     },
     "execution_count": 38,
     "metadata": {},
     "output_type": "execute_result"
    }
   ],
   "source": [
    "len(history.history['loss'])"
   ],
   "metadata": {
    "collapsed": false,
    "ExecuteTime": {
     "end_time": "2023-08-20T16:06:10.506653Z",
     "start_time": "2023-08-20T16:06:10.491033Z"
    }
   }
  },
  {
   "cell_type": "code",
   "execution_count": 39,
   "outputs": [],
   "source": [
    "history =  pd.DataFrame(history.history, index=range(1,len(history.history['loss'])+1))\n",
    "\n",
    "history.to_csv('results/history-tuned.csv', index=True, index_label = \"Epoch\")"
   ],
   "metadata": {
    "collapsed": false,
    "ExecuteTime": {
     "end_time": "2023-08-20T16:06:10.522190200Z",
     "start_time": "2023-08-20T16:06:10.506653Z"
    }
   }
  },
  {
   "cell_type": "code",
   "execution_count": 40,
   "outputs": [],
   "source": [
    "pd.DataFrame(data={'Test Loss': eval[0], 'Test Accuracy': eval[1]}, index=[1]).to_csv('results/evaluation.csv', index=False)"
   ],
   "metadata": {
    "collapsed": false,
    "ExecuteTime": {
     "end_time": "2023-08-20T16:06:10.537902700Z",
     "start_time": "2023-08-20T16:06:10.522190200Z"
    }
   }
  },
  {
   "cell_type": "code",
   "execution_count": 43,
   "outputs": [],
   "source": [
    "hypermodel.save(filepath='results/model.keras', overwrite=True)"
   ],
   "metadata": {
    "collapsed": false,
    "ExecuteTime": {
     "end_time": "2023-08-20T16:09:56.072879900Z",
     "start_time": "2023-08-20T16:09:56.041636400Z"
    }
   }
  },
  {
   "cell_type": "code",
   "execution_count": 44,
   "outputs": [
    {
     "data": {
      "image/png": "[encoded data removed]",
      "text/plain": "<IPython.core.display.Image object>"
     },
     "execution_count": 44,
     "metadata": {},
     "output_type": "execute_result"
    }
   ],
   "source": [
    "from keras.utils import plot_model\n",
    "\n",
    "plot_model(hypermodel, to_file='model/model.png')"
   ],
   "metadata": {
    "collapsed": false,
    "ExecuteTime": {
     "end_time": "2023-08-20T16:09:58.408674500Z",
     "start_time": "2023-08-20T16:09:58.198545300Z"
    }
   }
  }
 ],
 "metadata": {
  "kernelspec": {
   "display_name": "Python 3",
   "language": "python",
   "name": "python3"
  },
  "language_info": {
   "codemirror_mode": {
    "name": "ipython",
    "version": 2
   },
   "file_extension": ".py",
   "mimetype": "text/x-python",
   "name": "python",
   "nbconvert_exporter": "python",
   "pygments_lexer": "ipython2",
   "version": "2.7.6"
  }
 },
 "nbformat": 4,
 "nbformat_minor": 0
}
