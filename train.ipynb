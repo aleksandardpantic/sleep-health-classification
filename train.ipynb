{
 "cells": [
  {
   "cell_type": "markdown",
   "source": [
    "Load data"
   ],
   "metadata": {
    "collapsed": false
   }
  },
  {
   "cell_type": "code",
   "execution_count": 1,
   "outputs": [],
   "source": [
    "import pandas as pd\n",
    "import numpy as np\n",
    "\n",
    "data = pd.read_csv('data/sleep_health_clean.csv', sep=';')\n",
    "\n",
    "X = data.drop(columns=[\"Sleep Disorder\"], inplace=False)\n",
    "y = data[\"Sleep Disorder\"].values.reshape(-1, 1)"
   ],
   "metadata": {
    "collapsed": false,
    "ExecuteTime": {
     "end_time": "2023-08-23T08:36:11.007618900Z",
     "start_time": "2023-08-23T08:36:10.976375400Z"
    }
   }
  },
  {
   "cell_type": "markdown",
   "source": [
    "Load pipelines"
   ],
   "metadata": {
    "collapsed": false
   }
  },
  {
   "cell_type": "code",
   "execution_count": 2,
   "outputs": [],
   "source": [
    "from sklearn.pipeline import Pipeline\n",
    "import joblib\n",
    "\n",
    "target_pipeline: Pipeline = joblib.load('data-pipelines-bin/target_pipeline')\n",
    "predictor_pipeline: Pipeline = joblib.load('data-pipelines-bin/predictor_pipeline')"
   ],
   "metadata": {
    "collapsed": false,
    "ExecuteTime": {
     "end_time": "2023-08-23T08:36:11.554066800Z",
     "start_time": "2023-08-23T08:36:11.014354500Z"
    }
   }
  },
  {
   "cell_type": "markdown",
   "source": [
    "Transform data through pipelines"
   ],
   "metadata": {
    "collapsed": false
   }
  },
  {
   "cell_type": "code",
   "execution_count": 3,
   "outputs": [],
   "source": [
    "X = predictor_pipeline.transform(X)"
   ],
   "metadata": {
    "collapsed": false,
    "ExecuteTime": {
     "end_time": "2023-08-23T08:36:11.585280400Z",
     "start_time": "2023-08-23T08:36:11.554066800Z"
    }
   }
  },
  {
   "cell_type": "code",
   "execution_count": 4,
   "outputs": [],
   "source": [
    "y = target_pipeline.transform(y)"
   ],
   "metadata": {
    "collapsed": false,
    "ExecuteTime": {
     "end_time": "2023-08-23T08:36:11.600902400Z",
     "start_time": "2023-08-23T08:36:11.585280400Z"
    }
   }
  },
  {
   "cell_type": "markdown",
   "source": [
    "Split for final evaluation"
   ],
   "metadata": {
    "collapsed": false
   }
  },
  {
   "cell_type": "code",
   "execution_count": 5,
   "outputs": [],
   "source": [
    "from sklearn.model_selection import train_test_split\n",
    "\n",
    "X_train, X_test, y_train, y_test = train_test_split(X,y, test_size=0.2, random_state=100, shuffle=True)"
   ],
   "metadata": {
    "collapsed": false,
    "ExecuteTime": {
     "end_time": "2023-08-23T08:36:11.616552100Z",
     "start_time": "2023-08-23T08:36:11.600902400Z"
    }
   }
  },
  {
   "cell_type": "markdown",
   "source": [
    "Find number of features"
   ],
   "metadata": {
    "collapsed": false
   }
  },
  {
   "cell_type": "code",
   "execution_count": 6,
   "outputs": [],
   "source": [
    "no_of_features = X.shape[1]"
   ],
   "metadata": {
    "collapsed": false,
    "ExecuteTime": {
     "end_time": "2023-08-23T08:36:11.632173100Z",
     "start_time": "2023-08-23T08:36:11.616552100Z"
    }
   }
  },
  {
   "cell_type": "code",
   "execution_count": 7,
   "outputs": [],
   "source": [
    "from keras_tuner import HyperParameters, GridSearch\n",
    "from keras.models import Model\n",
    "from keras.layers import Input,Dense\n",
    "from keras.callbacks import EarlyStopping\n",
    "from keras.losses import CategoricalCrossentropy\n",
    "from keras.metrics import CategoricalAccuracy\n",
    "from keras.optimizers import Adam"
   ],
   "metadata": {
    "collapsed": false,
    "ExecuteTime": {
     "end_time": "2023-08-23T08:36:14.846457800Z",
     "start_time": "2023-08-23T08:36:11.632173100Z"
    }
   }
  },
  {
   "cell_type": "markdown",
   "source": [
    "Define model builder, used for hyperparameter tuning"
   ],
   "metadata": {
    "collapsed": false
   }
  },
  {
   "cell_type": "code",
   "execution_count": 8,
   "outputs": [],
   "source": [
    "def model_builder(hp: HyperParameters) -> Model:\n",
    "    inputs = Input(shape=(no_of_features,), name='input', dtype=np.float32)\n",
    "    units1 = hp.Int('units1', min_value=8, max_value=64, step=4)\n",
    "    dense1 = Dense(units1,name='dense_1', activation='relu')(inputs)\n",
    "    units2 = hp.Int('units2', min_value=4, max_value=32, step=2)\n",
    "    dense2 = Dense(units2,name='dense_2', activation='relu')(dense1)\n",
    "    output1 = Dense(3,name='output',activation='softmax')(dense2)\n",
    "    model = Model(inputs = inputs, outputs = output1, name=\"sleep-health_classification\")\n",
    "    lr = hp.Float('learning_rate', min_value=1e-3,max_value=1e-2, step=1e-3)\n",
    "    model.compile(loss=CategoricalCrossentropy(name='loss'),\n",
    "                  optimizer=Adam(learning_rate=lr),\n",
    "                  metrics=[CategoricalAccuracy(name='accuracy')]\n",
    "                  )\n",
    "    return model"
   ],
   "metadata": {
    "collapsed": false,
    "ExecuteTime": {
     "end_time": "2023-08-23T08:36:14.862050100Z",
     "start_time": "2023-08-23T08:36:14.846457800Z"
    }
   }
  },
  {
   "cell_type": "markdown",
   "source": [
    "Early stopping, prevents ovefitting when learning slows"
   ],
   "metadata": {
    "collapsed": false
   }
  },
  {
   "cell_type": "code",
   "execution_count": 9,
   "outputs": [],
   "source": [
    "early_stopping = EarlyStopping(monitor='loss',\n",
    "                               min_delta=0.05,  # najmanja promena u odnosu na prethodnu epohu\n",
    "                               patience=2,\n",
    "                               # broj epoha sa promenom manjom od delta vrednosti nakon ceka trening staje\n",
    "                               verbose=1,  # da prikaze zasto je trening zaustavljen\n",
    "                               restore_best_weights=True)"
   ],
   "metadata": {
    "collapsed": false,
    "ExecuteTime": {
     "end_time": "2023-08-23T08:36:14.877671600Z",
     "start_time": "2023-08-23T08:36:14.862050100Z"
    }
   }
  },
  {
   "cell_type": "markdown",
   "source": [
    "Create tuner class"
   ],
   "metadata": {
    "collapsed": false
   }
  },
  {
   "cell_type": "code",
   "execution_count": 10,
   "outputs": [],
   "source": [
    "tuner = GridSearch(model_builder,objective='loss', seed=100)"
   ],
   "metadata": {
    "collapsed": false,
    "ExecuteTime": {
     "end_time": "2023-08-23T08:36:15.096459800Z",
     "start_time": "2023-08-23T08:36:14.877671600Z"
    }
   }
  },
  {
   "cell_type": "markdown",
   "source": [
    "Save checkpoints"
   ],
   "metadata": {
    "collapsed": false
   }
  },
  {
   "cell_type": "code",
   "execution_count": 11,
   "outputs": [],
   "source": [
    "# from keras.callbacks import ModelCheckpoint, EarlyStopping\n",
    "# \n",
    "# \n",
    "# checkpoint = ModelCheckpoint(\n",
    "#     weights_format,\n",
    "#     monitor='loss',  # loss je parametar treniranja\n",
    "#     verbose=0,  # 1 da prikazuje svaki callback, ne treba\n",
    "#     save_best_only=True,  # svaka iteracija pamti samo najbolje tezine\n",
    "#     mode='min'  # ako treba da se overwrituje fajl, zapamti sa manjim lossom\n",
    "# )"
   ],
   "metadata": {
    "collapsed": false,
    "ExecuteTime": {
     "end_time": "2023-08-23T08:36:15.112089800Z",
     "start_time": "2023-08-23T08:36:15.096459800Z"
    }
   }
  },
  {
   "cell_type": "markdown",
   "source": [
    "Search the grid for best hyperparameter combination"
   ],
   "metadata": {
    "collapsed": false
   }
  },
  {
   "cell_type": "code",
   "execution_count": 12,
   "outputs": [
    {
     "name": "stdout",
     "output_type": "stream",
     "text": [
      "Trial 2250 Complete [00h 00m 01s]\n",
      "loss: 0.30817821621894836\n",
      "\n",
      "Best loss So Far: 0.2856726050376892\n",
      "Total elapsed time: 00h 46m 07s\n",
      "INFO:tensorflow:Oracle triggered exit\n"
     ]
    }
   ],
   "source": [
    "tuner.search(X_train,y_train,epochs = 50, callbacks=[early_stopping])"
   ],
   "metadata": {
    "collapsed": false
   }
  },
  {
   "cell_type": "markdown",
   "source": [
    "Get best hyperparameters and create hypermodel "
   ],
   "metadata": {
    "collapsed": false
   }
  },
  {
   "cell_type": "code",
   "execution_count": 13,
   "outputs": [],
   "source": [
    "best_hps=tuner.get_best_hyperparameters(num_trials=1)[0]"
   ],
   "metadata": {
    "collapsed": false,
    "ExecuteTime": {
     "end_time": "2023-08-20T17:48:09.186622900Z",
     "start_time": "2023-08-20T17:48:09.163930Z"
    }
   }
  },
  {
   "cell_type": "code",
   "execution_count": 14,
   "outputs": [],
   "source": [
    "hypermodel: Model = tuner.hypermodel.build(best_hps)"
   ],
   "metadata": {
    "collapsed": false,
    "ExecuteTime": {
     "end_time": "2023-08-20T17:48:09.242001600Z",
     "start_time": "2023-08-20T17:48:09.180874Z"
    }
   }
  },
  {
   "cell_type": "markdown",
   "source": [
    "Train hypermodel"
   ],
   "metadata": {
    "collapsed": false
   }
  },
  {
   "cell_type": "code",
   "execution_count": 15,
   "outputs": [
    {
     "name": "stdout",
     "output_type": "stream",
     "text": [
      "Epoch 1/50\n",
      "8/8 [==============================] - 1s 29ms/step - loss: 0.8026 - accuracy: 0.6904 - val_loss: 0.6388 - val_accuracy: 0.7833\n",
      "Epoch 2/50\n",
      "8/8 [==============================] - 0s 6ms/step - loss: 0.4477 - accuracy: 0.8661 - val_loss: 0.5875 - val_accuracy: 0.9000\n",
      "Epoch 3/50\n",
      "8/8 [==============================] - 0s 6ms/step - loss: 0.3630 - accuracy: 0.8954 - val_loss: 0.5578 - val_accuracy: 0.9000\n",
      "Epoch 4/50\n",
      "8/8 [==============================] - 0s 5ms/step - loss: 0.3354 - accuracy: 0.8996 - val_loss: 0.5014 - val_accuracy: 0.9000\n",
      "Epoch 5/50\n",
      "8/8 [==============================] - 0s 6ms/step - loss: 0.3082 - accuracy: 0.9121 - val_loss: 0.4738 - val_accuracy: 0.9000\n",
      "Epoch 6/50\n",
      "8/8 [==============================] - 0s 5ms/step - loss: 0.2850 - accuracy: 0.9331 - val_loss: 0.4707 - val_accuracy: 0.9000\n",
      "Epoch 7/50\n",
      "1/8 [==>...........................] - ETA: 0s - loss: 0.3653 - accuracy: 0.8750Restoring model weights from the end of the best epoch: 5.\n",
      "8/8 [==============================] - 0s 7ms/step - loss: 0.2867 - accuracy: 0.9331 - val_loss: 0.5170 - val_accuracy: 0.9000\n",
      "Epoch 7: early stopping\n"
     ]
    }
   ],
   "source": [
    "history = hypermodel.fit(X_train, y_train, epochs=50, validation_split=0.2, shuffle = True,callbacks=[early_stopping], )\n"
   ],
   "metadata": {
    "collapsed": false,
    "ExecuteTime": {
     "end_time": "2023-08-20T17:48:10.375985Z",
     "start_time": "2023-08-20T17:48:09.250294400Z"
    }
   }
  },
  {
   "cell_type": "markdown",
   "source": [
    "Evaluate"
   ],
   "metadata": {
    "collapsed": false
   }
  },
  {
   "cell_type": "code",
   "execution_count": 16,
   "outputs": [
    {
     "name": "stdout",
     "output_type": "stream",
     "text": [
      "3/3 [==============================] - 0s 887us/step - loss: 0.3900 - accuracy: 0.9333\n"
     ]
    }
   ],
   "source": [
    "eval = hypermodel.evaluate(x=X_test,y=y_test)"
   ],
   "metadata": {
    "collapsed": false,
    "ExecuteTime": {
     "end_time": "2023-08-20T17:48:10.457634900Z",
     "start_time": "2023-08-20T17:48:10.372560800Z"
    }
   }
  },
  {
   "cell_type": "code",
   "execution_count": 17,
   "outputs": [
    {
     "data": {
      "text/plain": "[0.39000728726387024, 0.9333333373069763]"
     },
     "execution_count": 17,
     "metadata": {},
     "output_type": "execute_result"
    }
   ],
   "source": [
    "eval"
   ],
   "metadata": {
    "collapsed": false,
    "ExecuteTime": {
     "end_time": "2023-08-20T17:48:10.500081900Z",
     "start_time": "2023-08-20T17:48:10.455640900Z"
    }
   }
  },
  {
   "cell_type": "code",
   "execution_count": 18,
   "outputs": [
    {
     "data": {
      "text/plain": "7"
     },
     "execution_count": 18,
     "metadata": {},
     "output_type": "execute_result"
    }
   ],
   "source": [
    "len(history.history['loss'])"
   ],
   "metadata": {
    "collapsed": false,
    "ExecuteTime": {
     "end_time": "2023-08-20T17:48:10.512446500Z",
     "start_time": "2023-08-20T17:48:10.469547700Z"
    }
   }
  },
  {
   "cell_type": "markdown",
   "source": [
    "Save history to `history.csv`"
   ],
   "metadata": {
    "collapsed": false
   }
  },
  {
   "cell_type": "code",
   "execution_count": 19,
   "outputs": [],
   "source": [
    "history =  pd.DataFrame(history.history, index=range(1,len(history.history['loss'])+1))\n",
    "\n",
    "history.to_csv('results/history.csv', index=True, index_label = \"Epoch\")"
   ],
   "metadata": {
    "collapsed": false,
    "ExecuteTime": {
     "end_time": "2023-08-20T17:48:10.514483500Z",
     "start_time": "2023-08-20T17:48:10.482793400Z"
    }
   }
  },
  {
   "cell_type": "markdown",
   "source": [
    "Save evaluation to `evaluation.csv`"
   ],
   "metadata": {
    "collapsed": false
   }
  },
  {
   "cell_type": "code",
   "execution_count": 20,
   "outputs": [],
   "source": [
    "pd.DataFrame(data={'Test Loss': eval[0], 'Test Accuracy': eval[1]}, index=[1]).to_csv('results/evaluation.csv', index=False)"
   ],
   "metadata": {
    "collapsed": false,
    "ExecuteTime": {
     "end_time": "2023-08-20T17:48:10.514483500Z",
     "start_time": "2023-08-20T17:48:10.492414800Z"
    }
   }
  },
  {
   "cell_type": "code",
   "execution_count": 21,
   "outputs": [],
   "source": [
    "hypermodel.save(filepath='results/model.keras', overwrite=True)"
   ],
   "metadata": {
    "collapsed": false,
    "ExecuteTime": {
     "end_time": "2023-08-20T17:48:10.568890900Z",
     "start_time": "2023-08-20T17:48:10.514483500Z"
    }
   }
  },
  {
   "cell_type": "code",
   "execution_count": 23,
   "outputs": [
    {
     "data": {
      "image/png": "[encoded data removed]",
      "text/plain": "<IPython.core.display.Image object>"
     },
     "execution_count": 23,
     "metadata": {},
     "output_type": "execute_result"
    }
   ],
   "source": [
    "from keras.utils import plot_model\n",
    "\n",
    "plot_model(hypermodel, to_file='model/model.png',  show_shapes=False,\n",
    "           show_dtype=False,\n",
    "           show_layer_names=True,\n",
    "           show_layer_activations=False,\n",
    "           show_trainable=False)"
   ],
   "metadata": {
    "collapsed": false,
    "ExecuteTime": {
     "end_time": "2023-08-20T17:54:50.432302700Z",
     "start_time": "2023-08-20T17:54:50.126366Z"
    }
   }
  }
 ],
 "metadata": {
  "kernelspec": {
   "display_name": "Python 3",
   "language": "python",
   "name": "python3"
  },
  "language_info": {
   "codemirror_mode": {
    "name": "ipython",
    "version": 2
   },
   "file_extension": ".py",
   "mimetype": "text/x-python",
   "name": "python",
   "nbconvert_exporter": "python",
   "pygments_lexer": "ipython2",
   "version": "2.7.6"
  }
 },
 "nbformat": 4,
 "nbformat_minor": 0
}
