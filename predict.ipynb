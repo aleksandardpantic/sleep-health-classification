{
 "cells": [
  {
   "cell_type": "code",
   "execution_count": 12,
   "metadata": {
    "collapsed": true,
    "ExecuteTime": {
     "end_time": "2023-07-26T16:51:15.827145400Z",
     "start_time": "2023-07-26T16:51:15.811523100Z"
    }
   },
   "outputs": [],
   "source": []
  },
  {
   "cell_type": "code",
   "execution_count": 13,
   "outputs": [],
   "source": [
    "weights_format = \"model/weights/weights-{epoch:02d}-{loss:.4f}.hdf5\""
   ],
   "metadata": {
    "collapsed": false,
    "ExecuteTime": {
     "end_time": "2023-07-26T16:51:15.889631100Z",
     "start_time": "2023-07-26T16:51:15.827145400Z"
    }
   }
  },
  {
   "cell_type": "code",
   "execution_count": 14,
   "outputs": [],
   "source": [
    "import pandas as pd\n",
    "import numpy as np\n",
    "\n",
    "X_train = pd.read_csv('data/X_train.csv')\n",
    "X_test = pd.read_csv('data/X_test.csv')\n",
    "\n",
    "y_train = pd.read_csv('data/y_train.csv')\n",
    "y_test = pd.read_csv('data/y_test.csv')"
   ],
   "metadata": {
    "collapsed": false,
    "ExecuteTime": {
     "end_time": "2023-07-26T16:51:15.889631100Z",
     "start_time": "2023-07-26T16:51:15.842794100Z"
    }
   }
  },
  {
   "cell_type": "markdown",
   "source": [],
   "metadata": {
    "collapsed": false
   }
  },
  {
   "cell_type": "code",
   "execution_count": 15,
   "outputs": [],
   "source": [
    "from keras.callbacks import ModelCheckpoint, EarlyStopping\n",
    "\n",
    "\n",
    "checkpoint = ModelCheckpoint(\n",
    "    weights_format,\n",
    "    monitor='loss',  # loss je parametar treniranja\n",
    "    verbose=0,  # 1 da prikazuje svaki callback, ne treba\n",
    "    save_best_only=True,  # svaka iteracija pamti samo najbolje tezine\n",
    "    mode='min'  # ako treba da se overwrituje fajl, zapamti sa manjim lossom\n",
    ")\n",
    "early_stopping = EarlyStopping(monitor='loss',\n",
    "                               min_delta=0.1,\n",
    "                               patience=3,\n",
    "                               verbose=1,\n",
    "                               restore_best_weights=True)"
   ],
   "metadata": {
    "collapsed": false,
    "ExecuteTime": {
     "end_time": "2023-07-26T16:51:15.889631100Z",
     "start_time": "2023-07-26T16:51:15.858387400Z"
    }
   }
  },
  {
   "cell_type": "code",
   "execution_count": 16,
   "outputs": [
    {
     "name": "stderr",
     "output_type": "stream",
     "text": [
      "WARNING:absl:Skipping variable loading for optimizer 'Adam', because it has 13 variables whereas the saved optimizer has 1 variables. \n"
     ]
    },
    {
     "name": "stdout",
     "output_type": "stream",
     "text": [
      "Epoch 1/200\n",
      "8/8 [==============================] - 0s 27ms/step - loss: 3.4987 - accuracy: 0.4786 - val_loss: 1.1776 - val_accuracy: 0.3333\n",
      "Epoch 2/200\n",
      "8/8 [==============================] - 0s 7ms/step - loss: 1.2586 - accuracy: 0.4957 - val_loss: 1.3031 - val_accuracy: 0.5926\n",
      "Epoch 3/200\n",
      "8/8 [==============================] - 0s 7ms/step - loss: 0.8751 - accuracy: 0.6239 - val_loss: 0.6088 - val_accuracy: 0.8889\n",
      "Epoch 4/200\n",
      "8/8 [==============================] - 0s 7ms/step - loss: 0.7970 - accuracy: 0.6154 - val_loss: 0.5358 - val_accuracy: 0.8889\n",
      "Epoch 5/200\n",
      "1/8 [==>...........................] - ETA: 0s - loss: 0.6467 - accuracy: 0.7812"
     ]
    },
    {
     "name": "stderr",
     "output_type": "stream",
     "text": [
      "C:\\Users\\alpan\\anaconda3\\envs\\sleep_health_classification\\lib\\site-packages\\keras\\src\\engine\\training.py:3000: UserWarning: You are saving your model as an HDF5 file via `model.save()`. This file format is considered legacy. We recommend using instead the native Keras format, e.g. `model.save('my_model.keras')`.\n",
      "  saving_api.save_model(\n"
     ]
    },
    {
     "name": "stdout",
     "output_type": "stream",
     "text": [
      "8/8 [==============================] - 0s 7ms/step - loss: 0.7055 - accuracy: 0.7094 - val_loss: 0.5283 - val_accuracy: 0.8889\n",
      "Epoch 6/200\n",
      "8/8 [==============================] - 0s 4ms/step - loss: 0.5850 - accuracy: 0.7906 - val_loss: 0.4481 - val_accuracy: 0.8889\n",
      "Epoch 7/200\n",
      "8/8 [==============================] - 0s 6ms/step - loss: 0.5660 - accuracy: 0.7949 - val_loss: 0.3489 - val_accuracy: 0.9259\n",
      "Epoch 8/200\n",
      "8/8 [==============================] - 0s 7ms/step - loss: 0.4905 - accuracy: 0.8462 - val_loss: 0.4375 - val_accuracy: 0.9630\n",
      "Epoch 9/200\n",
      "8/8 [==============================] - 0s 7ms/step - loss: 0.4694 - accuracy: 0.8761 - val_loss: 0.3010 - val_accuracy: 0.9259\n",
      "Epoch 10/200\n",
      "8/8 [==============================] - 0s 4ms/step - loss: 0.4359 - accuracy: 0.8590 - val_loss: 0.3050 - val_accuracy: 0.9630\n",
      "Epoch 11/200\n",
      "8/8 [==============================] - 0s 4ms/step - loss: 0.4039 - accuracy: 0.8932 - val_loss: 0.2071 - val_accuracy: 0.9630\n",
      "Epoch 12/200\n",
      "1/8 [==>...........................] - ETA: 0s - loss: 0.4006 - accuracy: 0.8750Restoring model weights from the end of the best epoch: 9.\n",
      "8/8 [==============================] - 0s 4ms/step - loss: 0.4069 - accuracy: 0.8932 - val_loss: 0.1925 - val_accuracy: 0.9630\n",
      "Epoch 12: early stopping\n"
     ]
    }
   ],
   "source": [
    "from keras import Model\n",
    "from keras.models import load_model\n",
    "\n",
    "model: Model = load_model('model/model_conf.keras')\n",
    "\n",
    "history = model.fit(x = X_train,\n",
    "                    y=y_train,\n",
    "                    callbacks=[checkpoint,early_stopping],\n",
    "                    epochs=200,\n",
    "                    verbose=1,\n",
    "                    validation_split=0.1,\n",
    "                    shuffle=True)"
   ],
   "metadata": {
    "collapsed": false,
    "ExecuteTime": {
     "end_time": "2023-07-26T16:51:17.005251200Z",
     "start_time": "2023-07-26T16:51:15.874009400Z"
    }
   }
  },
  {
   "cell_type": "code",
   "execution_count": 17,
   "outputs": [
    {
     "name": "stdout",
     "output_type": "stream",
     "text": [
      "4/4 [==============================] - 0s 0s/step - loss: 0.6956 - accuracy: 0.7080\n"
     ]
    }
   ],
   "source": [
    "eval = model.evaluate(x=X_test,y=y_test)"
   ],
   "metadata": {
    "collapsed": false,
    "ExecuteTime": {
     "end_time": "2023-07-26T16:51:17.083357800Z",
     "start_time": "2023-07-26T16:51:17.005251200Z"
    }
   }
  },
  {
   "cell_type": "code",
   "execution_count": 18,
   "outputs": [
    {
     "data": {
      "text/plain": "0.7079645991325378"
     },
     "execution_count": 18,
     "metadata": {},
     "output_type": "execute_result"
    }
   ],
   "source": [
    "eval[1]"
   ],
   "metadata": {
    "collapsed": false,
    "ExecuteTime": {
     "end_time": "2023-07-26T16:51:17.145880900Z",
     "start_time": "2023-07-26T16:51:17.083357800Z"
    }
   }
  },
  {
   "cell_type": "code",
   "execution_count": 19,
   "outputs": [
    {
     "data": {
      "text/plain": "12"
     },
     "execution_count": 19,
     "metadata": {},
     "output_type": "execute_result"
    }
   ],
   "source": [
    "len(history.history['loss'])"
   ],
   "metadata": {
    "collapsed": false,
    "ExecuteTime": {
     "end_time": "2023-07-26T16:51:17.161475800Z",
     "start_time": "2023-07-26T16:51:17.098979300Z"
    }
   }
  },
  {
   "cell_type": "code",
   "execution_count": 20,
   "outputs": [],
   "source": [
    "from pandas import DataFrame\n",
    "\n",
    "history =  DataFrame(history.history, index=range(1,len(history.history['loss'])+1))\n",
    "\n"
   ],
   "metadata": {
    "collapsed": false,
    "ExecuteTime": {
     "end_time": "2023-07-26T16:51:17.161475800Z",
     "start_time": "2023-07-26T16:51:17.114600800Z"
    }
   }
  },
  {
   "cell_type": "code",
   "execution_count": 21,
   "outputs": [],
   "source": [
    "history.rename(columns={'loss':\"Loss\", 'accuracy': 'Accuracy', 'val_loss':'Validation Loss', 'val_accuracy':'Validation Accuracy'}, inplace=True)"
   ],
   "metadata": {
    "collapsed": false,
    "ExecuteTime": {
     "end_time": "2023-07-26T16:51:17.161475800Z",
     "start_time": "2023-07-26T16:51:17.145880900Z"
    }
   }
  },
  {
   "cell_type": "code",
   "execution_count": 22,
   "outputs": [],
   "source": [
    "\n",
    "history.to_csv('results/history.csv', index=True, index_label = \"Epoch\")"
   ],
   "metadata": {
    "collapsed": false,
    "ExecuteTime": {
     "end_time": "2023-07-26T16:51:17.208328800Z",
     "start_time": "2023-07-26T16:51:17.145880900Z"
    }
   }
  },
  {
   "cell_type": "code",
   "execution_count": 23,
   "outputs": [],
   "source": [
    "DataFrame(data={'Test Loss': eval[0], 'Test Accuracy': eval[1]}, index=[1]).to_csv('results/evaluation.csv', index=False)"
   ],
   "metadata": {
    "collapsed": false,
    "ExecuteTime": {
     "end_time": "2023-07-26T16:51:17.208328800Z",
     "start_time": "2023-07-26T16:51:17.177110500Z"
    }
   }
  },
  {
   "cell_type": "code",
   "execution_count": 24,
   "outputs": [],
   "source": [
    "model.save(filepath='results/model.keras', overwrite=True)"
   ],
   "metadata": {
    "collapsed": false,
    "ExecuteTime": {
     "end_time": "2023-07-26T16:51:17.223993700Z",
     "start_time": "2023-07-26T16:51:17.192707100Z"
    }
   }
  }
 ],
 "metadata": {
  "kernelspec": {
   "display_name": "Python 3",
   "language": "python",
   "name": "python3"
  },
  "language_info": {
   "codemirror_mode": {
    "name": "ipython",
    "version": 2
   },
   "file_extension": ".py",
   "mimetype": "text/x-python",
   "name": "python",
   "nbconvert_exporter": "python",
   "pygments_lexer": "ipython2",
   "version": "2.7.6"
  }
 },
 "nbformat": 4,
 "nbformat_minor": 0
}
