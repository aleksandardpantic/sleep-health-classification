{
 "cells": [
  {
   "cell_type": "code",
   "execution_count": 426,
   "metadata": {
    "collapsed": true,
    "ExecuteTime": {
     "end_time": "2023-07-26T09:23:05.716427500Z",
     "start_time": "2023-07-26T09:23:05.673118400Z"
    }
   },
   "outputs": [],
   "source": []
  },
  {
   "cell_type": "code",
   "execution_count": 427,
   "outputs": [],
   "source": [
    "weights_format = \"model/weights/weights-{epoch:02d}-{loss:.4f}.hdf5\""
   ],
   "metadata": {
    "collapsed": false,
    "ExecuteTime": {
     "end_time": "2023-07-26T09:23:05.716427500Z",
     "start_time": "2023-07-26T09:23:05.700835700Z"
    }
   }
  },
  {
   "cell_type": "code",
   "execution_count": 428,
   "outputs": [],
   "source": [
    "import pandas as pd\n",
    "import numpy as np\n",
    "\n",
    "X_train = pd.read_csv('data/X_train.csv')\n",
    "X_test = pd.read_csv('data/X_test.csv')\n",
    "\n",
    "y_train = pd.read_csv('data/y_train.csv')\n",
    "y_test = pd.read_csv('data/y_test.csv')"
   ],
   "metadata": {
    "collapsed": false,
    "ExecuteTime": {
     "end_time": "2023-07-26T09:23:05.732080200Z",
     "start_time": "2023-07-26T09:23:05.716427500Z"
    }
   }
  },
  {
   "cell_type": "markdown",
   "source": [],
   "metadata": {
    "collapsed": false
   }
  },
  {
   "cell_type": "code",
   "execution_count": 429,
   "outputs": [],
   "source": [
    "from keras.callbacks import ModelCheckpoint, EarlyStopping\n",
    "\n",
    "\n",
    "checkpoint = ModelCheckpoint(\n",
    "    weights_format,\n",
    "    monitor='loss',  # loss je parametar treniranja\n",
    "    verbose=0,  # 1 da prikazuje svaki callback, ne treba\n",
    "    save_best_only=True,  # svaka iteracija pamti samo najbolje tezine\n",
    "    mode='min'  # ako treba da se overwrituje fajl, zapamti sa manjim lossom\n",
    ")\n",
    "early_stopping = EarlyStopping(monitor='loss',\n",
    "                               min_delta=0.1,\n",
    "                               patience=3,\n",
    "                               verbose=1,\n",
    "                               restore_best_weights=True)"
   ],
   "metadata": {
    "collapsed": false,
    "ExecuteTime": {
     "end_time": "2023-07-26T09:23:05.747699900Z",
     "start_time": "2023-07-26T09:23:05.732080200Z"
    }
   }
  },
  {
   "cell_type": "code",
   "execution_count": 430,
   "outputs": [
    {
     "name": "stderr",
     "output_type": "stream",
     "text": [
      "WARNING:absl:Skipping variable loading for optimizer 'Adam', because it has 13 variables whereas the saved optimizer has 1 variables. \n"
     ]
    },
    {
     "name": "stdout",
     "output_type": "stream",
     "text": [
      "Epoch 1/200\n",
      "8/8 [==============================] - 0s 25ms/step - loss: 3.5712 - accuracy: 0.4786 - val_loss: 1.2372 - val_accuracy: 0.3333\n",
      "Epoch 2/200\n",
      "8/8 [==============================] - 0s 4ms/step - loss: 1.3668 - accuracy: 0.4231 - val_loss: 1.5395 - val_accuracy: 0.5926\n",
      "Epoch 3/200\n",
      "8/8 [==============================] - 0s 7ms/step - loss: 1.0125 - accuracy: 0.5983 - val_loss: 0.5579 - val_accuracy: 0.8889\n",
      "Epoch 4/200\n",
      "8/8 [==============================] - 0s 7ms/step - loss: 0.7797 - accuracy: 0.6410 - val_loss: 0.6703 - val_accuracy: 0.9259\n",
      "Epoch 5/200\n",
      "1/8 [==>...........................] - ETA: 0s - loss: 0.6331 - accuracy: 0.9688"
     ]
    },
    {
     "name": "stderr",
     "output_type": "stream",
     "text": [
      "C:\\Users\\alpan\\anaconda3\\envs\\sleep_health_classification\\lib\\site-packages\\keras\\src\\engine\\training.py:3000: UserWarning: You are saving your model as an HDF5 file via `model.save()`. This file format is considered legacy. We recommend using instead the native Keras format, e.g. `model.save('my_model.keras')`.\n",
      "  saving_api.save_model(\n"
     ]
    },
    {
     "name": "stdout",
     "output_type": "stream",
     "text": [
      "8/8 [==============================] - 0s 7ms/step - loss: 0.6795 - accuracy: 0.7991 - val_loss: 0.5498 - val_accuracy: 0.5926\n",
      "Epoch 6/200\n",
      "8/8 [==============================] - 0s 7ms/step - loss: 0.6140 - accuracy: 0.7179 - val_loss: 0.4885 - val_accuracy: 0.8889\n",
      "Epoch 7/200\n",
      "8/8 [==============================] - 0s 4ms/step - loss: 0.5711 - accuracy: 0.8504 - val_loss: 0.3943 - val_accuracy: 0.8889\n",
      "Epoch 8/200\n",
      "8/8 [==============================] - 0s 7ms/step - loss: 0.5474 - accuracy: 0.7735 - val_loss: 0.4569 - val_accuracy: 0.9630\n",
      "Epoch 9/200\n",
      "8/8 [==============================] - 0s 7ms/step - loss: 0.5440 - accuracy: 0.8291 - val_loss: 0.2903 - val_accuracy: 0.9259\n",
      "Epoch 10/200\n",
      "8/8 [==============================] - 0s 7ms/step - loss: 0.4278 - accuracy: 0.8632 - val_loss: 0.3323 - val_accuracy: 0.9630\n",
      "Epoch 11/200\n",
      "8/8 [==============================] - 0s 4ms/step - loss: 0.4438 - accuracy: 0.8974 - val_loss: 0.2157 - val_accuracy: 0.9630\n",
      "Epoch 12/200\n",
      "8/8 [==============================] - 0s 7ms/step - loss: 0.4168 - accuracy: 0.8889 - val_loss: 0.2668 - val_accuracy: 0.9259\n",
      "Epoch 13/200\n",
      "1/8 [==>...........................] - ETA: 0s - loss: 0.4963 - accuracy: 0.8125Restoring model weights from the end of the best epoch: 10.\n",
      "8/8 [==============================] - 0s 7ms/step - loss: 0.4084 - accuracy: 0.8761 - val_loss: 0.2109 - val_accuracy: 0.9630\n",
      "Epoch 13: early stopping\n"
     ]
    }
   ],
   "source": [
    "from keras import Model\n",
    "from keras.models import load_model\n",
    "\n",
    "model: Model = load_model('model/model_conf.keras')\n",
    "\n",
    "history = model.fit(x = X_train,\n",
    "                    y=y_train,\n",
    "                    callbacks=[checkpoint,early_stopping],\n",
    "                    epochs=200,\n",
    "                    verbose=1,\n",
    "                    validation_split=0.1,\n",
    "                    shuffle=True)"
   ],
   "metadata": {
    "collapsed": false,
    "ExecuteTime": {
     "end_time": "2023-07-26T09:23:06.903282300Z",
     "start_time": "2023-07-26T09:23:05.747699900Z"
    }
   }
  },
  {
   "cell_type": "code",
   "execution_count": 431,
   "outputs": [
    {
     "name": "stdout",
     "output_type": "stream",
     "text": [
      "4/4 [==============================] - 0s 0s/step - loss: 0.6137 - accuracy: 0.8496\n"
     ]
    }
   ],
   "source": [
    "eval = model.evaluate(x=X_test,y=y_test)"
   ],
   "metadata": {
    "collapsed": false,
    "ExecuteTime": {
     "end_time": "2023-07-26T09:23:06.981388900Z",
     "start_time": "2023-07-26T09:23:06.903282300Z"
    }
   }
  },
  {
   "cell_type": "code",
   "execution_count": 432,
   "outputs": [
    {
     "data": {
      "text/plain": "0.8495575189590454"
     },
     "execution_count": 432,
     "metadata": {},
     "output_type": "execute_result"
    }
   ],
   "source": [
    "eval[1]"
   ],
   "metadata": {
    "collapsed": false,
    "ExecuteTime": {
     "end_time": "2023-07-26T09:23:07.028247800Z",
     "start_time": "2023-07-26T09:23:06.981388900Z"
    }
   }
  },
  {
   "cell_type": "code",
   "execution_count": 433,
   "outputs": [
    {
     "data": {
      "text/plain": "13"
     },
     "execution_count": 433,
     "metadata": {},
     "output_type": "execute_result"
    }
   ],
   "source": [
    "len(history.history['loss'])"
   ],
   "metadata": {
    "collapsed": false,
    "ExecuteTime": {
     "end_time": "2023-07-26T09:23:07.028247800Z",
     "start_time": "2023-07-26T09:23:06.997012300Z"
    }
   }
  },
  {
   "cell_type": "code",
   "execution_count": 434,
   "outputs": [],
   "source": [
    "from pandas import DataFrame\n",
    "\n",
    "history =  DataFrame(history.history, index=range(1,len(history.history['loss'])+1))\n",
    "\n"
   ],
   "metadata": {
    "collapsed": false,
    "ExecuteTime": {
     "end_time": "2023-07-26T09:23:07.028247800Z",
     "start_time": "2023-07-26T09:23:07.012627100Z"
    }
   }
  },
  {
   "cell_type": "code",
   "execution_count": 435,
   "outputs": [],
   "source": [
    "history.rename(columns={'loss':\"Loss\", 'accuracy': 'Accuracy', 'val_loss':'Validation Loss', 'val_accuracy':'Validation Accuracy'}, inplace=True)"
   ],
   "metadata": {
    "collapsed": false,
    "ExecuteTime": {
     "end_time": "2023-07-26T09:23:07.043880300Z",
     "start_time": "2023-07-26T09:23:07.028247800Z"
    }
   }
  },
  {
   "cell_type": "code",
   "execution_count": 436,
   "outputs": [],
   "source": [
    "\n",
    "history.to_csv('history.csv', index=True, index_label = \"Epoch\")"
   ],
   "metadata": {
    "collapsed": false,
    "ExecuteTime": {
     "end_time": "2023-07-26T09:23:07.090738900Z",
     "start_time": "2023-07-26T09:23:07.043880300Z"
    }
   }
  },
  {
   "cell_type": "code",
   "execution_count": 437,
   "outputs": [],
   "source": [
    "DataFrame(data={'Test Loss': eval[0], 'Test Accuracy': eval[1]}, index=[1]).to_csv('evaluation.csv', index=False)"
   ],
   "metadata": {
    "collapsed": false,
    "ExecuteTime": {
     "end_time": "2023-07-26T09:23:07.090738900Z",
     "start_time": "2023-07-26T09:23:07.059493Z"
    }
   }
  }
 ],
 "metadata": {
  "kernelspec": {
   "display_name": "Python 3",
   "language": "python",
   "name": "python3"
  },
  "language_info": {
   "codemirror_mode": {
    "name": "ipython",
    "version": 2
   },
   "file_extension": ".py",
   "mimetype": "text/x-python",
   "name": "python",
   "nbconvert_exporter": "python",
   "pygments_lexer": "ipython2",
   "version": "2.7.6"
  }
 },
 "nbformat": 4,
 "nbformat_minor": 0
}
