{
 "cells": [
  {
   "cell_type": "code",
   "execution_count": null,
   "metadata": {
    "collapsed": true
   },
   "outputs": [],
   "source": []
  },
  {
   "cell_type": "code",
   "execution_count": 1,
   "outputs": [],
   "source": [
    "weights_format = \"model/weights/weights-{epoch:02d}-{loss:.4f}.hdf5\""
   ],
   "metadata": {
    "collapsed": false,
    "ExecuteTime": {
     "end_time": "2023-07-26T08:24:05.869111600Z",
     "start_time": "2023-07-26T08:24:05.853513400Z"
    }
   }
  },
  {
   "cell_type": "code",
   "execution_count": 2,
   "outputs": [],
   "source": [
    "import pandas as pd\n",
    "import numpy as np\n",
    "\n",
    "X_train = pd.read_csv('data/X_train.csv')\n",
    "X_test = pd.read_csv('data/X_test.csv')\n",
    "\n",
    "y_train = pd.read_csv('data/y_train.csv')\n",
    "y_test = pd.read_csv('data/y_test.csv')"
   ],
   "metadata": {
    "collapsed": false,
    "ExecuteTime": {
     "end_time": "2023-07-26T08:24:08.972089900Z",
     "start_time": "2023-07-26T08:24:08.417930800Z"
    }
   }
  },
  {
   "cell_type": "markdown",
   "source": [],
   "metadata": {
    "collapsed": false
   }
  },
  {
   "cell_type": "code",
   "execution_count": 3,
   "outputs": [],
   "source": [
    "from keras.callbacks import ModelCheckpoint, EarlyStopping\n",
    "\n",
    "\n",
    "checkpoint = ModelCheckpoint(\n",
    "    weights_format,\n",
    "    monitor='loss',  # loss je parametar treniranja\n",
    "    verbose=0,  # 1 da prikazuje svaki callback, ne treba\n",
    "    save_best_only=True,  # svaka iteracija pamti samo najbolje tezine\n",
    "    mode='min'  # ako treba da se overwrituje fajl, zapamti sa manjim lossom\n",
    ")\n",
    "early_stopping = EarlyStopping(monitor='loss',\n",
    "                               min_delta=0.1,\n",
    "                               patience=2,\n",
    "                               verbose=1,\n",
    "                               restore_best_weights=True)"
   ],
   "metadata": {
    "collapsed": false,
    "ExecuteTime": {
     "end_time": "2023-07-26T08:24:24.059211300Z",
     "start_time": "2023-07-26T08:24:20.924216100Z"
    }
   }
  },
  {
   "cell_type": "code",
   "execution_count": 5,
   "outputs": [
    {
     "name": "stderr",
     "output_type": "stream",
     "text": [
      "WARNING:absl:Skipping variable loading for optimizer 'Adam', because it has 13 variables whereas the saved optimizer has 1 variables. \n"
     ]
    },
    {
     "name": "stdout",
     "output_type": "stream",
     "text": [
      "Epoch 1/200\n",
      "8/8 [==============================] - 0s 25ms/step - loss: 4.2707 - accuracy: 0.4487 - val_loss: 1.3951 - val_accuracy: 0.5926\n",
      "Epoch 2/200\n",
      "8/8 [==============================] - 0s 4ms/step - loss: 1.5427 - accuracy: 0.4573 - val_loss: 1.3525 - val_accuracy: 0.5926\n",
      "Epoch 3/200\n",
      "8/8 [==============================] - 0s 4ms/step - loss: 0.8709 - accuracy: 0.7179 - val_loss: 0.6079 - val_accuracy: 0.5926\n",
      "Epoch 4/200\n",
      "8/8 [==============================] - 0s 4ms/step - loss: 0.7569 - accuracy: 0.7265 - val_loss: 0.4480 - val_accuracy: 0.8889\n",
      "Epoch 5/200\n",
      "8/8 [==============================] - 0s 4ms/step - loss: 0.6820 - accuracy: 0.7222 - val_loss: 0.4970 - val_accuracy: 0.9630\n",
      "Epoch 6/200\n",
      "8/8 [==============================] - 0s 4ms/step - loss: 0.5944 - accuracy: 0.7906 - val_loss: 0.5244 - val_accuracy: 0.9259\n",
      "Epoch 7/200\n",
      "8/8 [==============================] - 0s 4ms/step - loss: 0.4812 - accuracy: 0.8462 - val_loss: 0.3203 - val_accuracy: 0.9630\n",
      "Epoch 8/200\n",
      "8/8 [==============================] - 0s 4ms/step - loss: 0.4452 - accuracy: 0.8590 - val_loss: 0.3237 - val_accuracy: 0.9259\n",
      "Epoch 9/200\n",
      "1/8 [==>...........................] - ETA: 0s - loss: 0.3405 - accuracy: 0.9688Restoring model weights from the end of the best epoch: 7.\n",
      "8/8 [==============================] - 0s 4ms/step - loss: 0.5015 - accuracy: 0.8590 - val_loss: 0.4944 - val_accuracy: 0.8889\n",
      "Epoch 9: early stopping\n"
     ]
    },
    {
     "name": "stderr",
     "output_type": "stream",
     "text": [
      "C:\\Users\\alpan\\anaconda3\\envs\\sleep_health_classification\\lib\\site-packages\\keras\\src\\engine\\training.py:3000: UserWarning: You are saving your model as an HDF5 file via `model.save()`. This file format is considered legacy. We recommend using instead the native Keras format, e.g. `model.save('my_model.keras')`.\n",
      "  saving_api.save_model(\n"
     ]
    }
   ],
   "source": [
    "from keras import Model\n",
    "from keras.models import load_model\n",
    "\n",
    "model: Model = load_model('model/model_conf.keras')\n",
    "\n",
    "history = model.fit(x = X_train,\n",
    "                    y=y_train,\n",
    "                    callbacks=[checkpoint,early_stopping],\n",
    "                    epochs=200,\n",
    "                    verbose=1,\n",
    "                    validation_split=0.1)"
   ],
   "metadata": {
    "collapsed": false,
    "ExecuteTime": {
     "end_time": "2023-07-26T08:24:54.995012700Z",
     "start_time": "2023-07-26T08:24:54.074040Z"
    }
   }
  },
  {
   "cell_type": "code",
   "execution_count": 6,
   "outputs": [
    {
     "name": "stdout",
     "output_type": "stream",
     "text": [
      "4/4 [==============================] - 0s 0s/step - loss: 0.6135 - accuracy: 0.8584\n"
     ]
    }
   ],
   "source": [
    "eval = model.evaluate(x=X_test,y=y_test)"
   ],
   "metadata": {
    "collapsed": false,
    "ExecuteTime": {
     "end_time": "2023-07-26T08:25:25.444276600Z",
     "start_time": "2023-07-26T08:25:25.349999900Z"
    }
   }
  },
  {
   "cell_type": "code",
   "execution_count": 7,
   "outputs": [],
   "source": [
    "from pandas import DataFrame\n",
    "\n",
    "DataFrame(history.history).to_csv('history.csv',index=True,index_label='Epoch')"
   ],
   "metadata": {
    "collapsed": false,
    "ExecuteTime": {
     "end_time": "2023-07-26T08:26:51.388472Z",
     "start_time": "2023-07-26T08:26:51.372855900Z"
    }
   }
  }
 ],
 "metadata": {
  "kernelspec": {
   "display_name": "Python 3",
   "language": "python",
   "name": "python3"
  },
  "language_info": {
   "codemirror_mode": {
    "name": "ipython",
    "version": 2
   },
   "file_extension": ".py",
   "mimetype": "text/x-python",
   "name": "python",
   "nbconvert_exporter": "python",
   "pygments_lexer": "ipython2",
   "version": "2.7.6"
  }
 },
 "nbformat": 4,
 "nbformat_minor": 0
}
