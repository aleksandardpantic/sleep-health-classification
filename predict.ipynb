{
 "cells": [
  {
   "cell_type": "code",
   "execution_count": 1371,
   "metadata": {
    "collapsed": true,
    "ExecuteTime": {
     "end_time": "2023-07-26T17:32:14.110720800Z",
     "start_time": "2023-07-26T17:32:14.105635500Z"
    }
   },
   "outputs": [],
   "source": []
  },
  {
   "cell_type": "code",
   "execution_count": 1372,
   "outputs": [],
   "source": [
    "weights_format = \"model/weights/weights-{epoch:02d}-{loss:.4f}.hdf5\""
   ],
   "metadata": {
    "collapsed": false,
    "ExecuteTime": {
     "end_time": "2023-07-26T17:32:14.188829Z",
     "start_time": "2023-07-26T17:32:14.110720800Z"
    }
   }
  },
  {
   "cell_type": "code",
   "execution_count": 1373,
   "outputs": [],
   "source": [
    "import pandas as pd\n",
    "import numpy as np\n",
    "\n",
    "X_train = pd.read_csv('data/X_train.csv')\n",
    "X_test = pd.read_csv('data/X_test.csv')\n",
    "\n",
    "y_train = pd.read_csv('data/y_train.csv')\n",
    "y_test = pd.read_csv('data/y_test.csv')"
   ],
   "metadata": {
    "collapsed": false,
    "ExecuteTime": {
     "end_time": "2023-07-26T17:32:14.188829Z",
     "start_time": "2023-07-26T17:32:14.126342500Z"
    }
   }
  },
  {
   "cell_type": "markdown",
   "source": [],
   "metadata": {
    "collapsed": false
   }
  },
  {
   "cell_type": "code",
   "execution_count": 1374,
   "outputs": [],
   "source": [
    "from keras.callbacks import ModelCheckpoint, EarlyStopping\n",
    "\n",
    "\n",
    "checkpoint = ModelCheckpoint(\n",
    "    weights_format,\n",
    "    monitor='loss',  # loss je parametar treniranja\n",
    "    verbose=0,  # 1 da prikazuje svaki callback, ne treba\n",
    "    save_best_only=True,  # svaka iteracija pamti samo najbolje tezine\n",
    "    mode='min'  # ako treba da se overwrituje fajl, zapamti sa manjim lossom\n",
    ")"
   ],
   "metadata": {
    "collapsed": false,
    "ExecuteTime": {
     "end_time": "2023-07-26T17:32:14.188829Z",
     "start_time": "2023-07-26T17:32:14.141963900Z"
    }
   }
  },
  {
   "cell_type": "code",
   "execution_count": 1375,
   "outputs": [],
   "source": [
    "\n",
    "early_stopping = EarlyStopping(monitor='loss',\n",
    "                               min_delta=0.1,\n",
    "                               patience=3,\n",
    "                               verbose=1,\n",
    "                               restore_best_weights=True)"
   ],
   "metadata": {
    "collapsed": false,
    "ExecuteTime": {
     "end_time": "2023-07-26T17:32:14.188829Z",
     "start_time": "2023-07-26T17:32:14.157585400Z"
    }
   }
  },
  {
   "cell_type": "code",
   "execution_count": 1376,
   "outputs": [
    {
     "name": "stderr",
     "output_type": "stream",
     "text": [
      "WARNING:absl:Skipping variable loading for optimizer 'Adam', because it has 13 variables whereas the saved optimizer has 1 variables. \n"
     ]
    },
    {
     "name": "stdout",
     "output_type": "stream",
     "text": [
      "Epoch 1/200\n",
      "9/9 [==============================] - 1s 2ms/step - loss: 1.0024 - accuracy: 0.4636\n",
      "Epoch 2/200\n",
      "9/9 [==============================] - 0s 2ms/step - loss: 0.9919 - accuracy: 0.6092\n",
      "Epoch 3/200\n",
      "9/9 [==============================] - 0s 2ms/step - loss: 0.9220 - accuracy: 0.6092\n",
      "Epoch 4/200\n",
      "9/9 [==============================] - 0s 2ms/step - loss: 0.8972 - accuracy: 0.6092\n",
      "Epoch 5/200\n",
      "9/9 [==============================] - 0s 2ms/step - loss: 0.8398 - accuracy: 0.6092\n",
      "Epoch 6/200\n",
      "9/9 [==============================] - 0s 2ms/step - loss: 0.7756 - accuracy: 0.6092\n",
      "Epoch 7/200\n",
      "9/9 [==============================] - 0s 2ms/step - loss: 0.6911 - accuracy: 0.6207\n",
      "Epoch 8/200\n",
      "9/9 [==============================] - 0s 2ms/step - loss: 0.6077 - accuracy: 0.7241\n",
      "Epoch 9/200\n",
      "9/9 [==============================] - 0s 2ms/step - loss: 0.5209 - accuracy: 0.8276\n",
      "Epoch 10/200\n",
      "9/9 [==============================] - 0s 2ms/step - loss: 0.4923 - accuracy: 0.8199\n",
      "Epoch 11/200\n",
      "9/9 [==============================] - 0s 2ms/step - loss: 0.4489 - accuracy: 0.8927\n",
      "Epoch 12/200\n",
      "9/9 [==============================] - 0s 2ms/step - loss: 0.3772 - accuracy: 0.8927\n",
      "Epoch 13/200\n",
      "9/9 [==============================] - 0s 2ms/step - loss: 0.3680 - accuracy: 0.8851\n",
      "Epoch 14/200\n",
      "9/9 [==============================] - 0s 2ms/step - loss: 0.3754 - accuracy: 0.8927\n",
      "Epoch 15/200\n",
      "1/9 [==>...........................] - ETA: 0s - loss: 0.7039 - accuracy: 0.7812Restoring model weights from the end of the best epoch: 12.\n",
      "9/9 [==============================] - 0s 2ms/step - loss: 0.3401 - accuracy: 0.8889\n",
      "Epoch 15: early stopping\n"
     ]
    }
   ],
   "source": [
    "from keras import Model\n",
    "from keras.models import load_model\n",
    "\n",
    "model: Model = load_model('model/model_conf.keras')\n",
    "\n",
    "history = model.fit(x = X_train,\n",
    "                    y=y_train,\n",
    "                    callbacks=[early_stopping],\n",
    "                    epochs=200,\n",
    "                    verbose=1,\n",
    "                    shuffle=True)"
   ],
   "metadata": {
    "collapsed": false,
    "ExecuteTime": {
     "end_time": "2023-07-26T17:32:15.047611600Z",
     "start_time": "2023-07-26T17:32:14.188829Z"
    }
   }
  },
  {
   "cell_type": "code",
   "execution_count": 1377,
   "outputs": [
    {
     "name": "stdout",
     "output_type": "stream",
     "text": [
      "4/4 [==============================] - 0s 5ms/step - loss: 0.5881 - accuracy: 0.8496\n"
     ]
    }
   ],
   "source": [
    "eval = model.evaluate(x=X_test,y=y_test)"
   ],
   "metadata": {
    "collapsed": false,
    "ExecuteTime": {
     "end_time": "2023-07-26T17:32:15.219480400Z",
     "start_time": "2023-07-26T17:32:15.047611600Z"
    }
   }
  },
  {
   "cell_type": "code",
   "execution_count": 1378,
   "outputs": [
    {
     "data": {
      "text/plain": "[0.588119626045227, 0.8495575189590454]"
     },
     "execution_count": 1378,
     "metadata": {},
     "output_type": "execute_result"
    }
   ],
   "source": [
    "eval"
   ],
   "metadata": {
    "collapsed": false,
    "ExecuteTime": {
     "end_time": "2023-07-26T17:32:15.282025300Z",
     "start_time": "2023-07-26T17:32:15.219480400Z"
    }
   }
  },
  {
   "cell_type": "code",
   "execution_count": 1379,
   "outputs": [
    {
     "data": {
      "text/plain": "15"
     },
     "execution_count": 1379,
     "metadata": {},
     "output_type": "execute_result"
    }
   ],
   "source": [
    "len(history.history['loss'])"
   ],
   "metadata": {
    "collapsed": false,
    "ExecuteTime": {
     "end_time": "2023-07-26T17:32:15.313268200Z",
     "start_time": "2023-07-26T17:32:15.235100100Z"
    }
   }
  },
  {
   "cell_type": "code",
   "execution_count": 1380,
   "outputs": [],
   "source": [
    "from pandas import DataFrame\n",
    "\n",
    "history =  DataFrame(history.history, index=range(1,len(history.history['loss'])+1))\n",
    "\n"
   ],
   "metadata": {
    "collapsed": false,
    "ExecuteTime": {
     "end_time": "2023-07-26T17:32:15.313268200Z",
     "start_time": "2023-07-26T17:32:15.250690Z"
    }
   }
  },
  {
   "cell_type": "code",
   "execution_count": 1381,
   "outputs": [],
   "source": [
    "history.rename(columns={'loss':\"Loss\", 'accuracy': 'Accuracy', 'val_loss':'Validation Loss', 'val_accuracy':'Validation Accuracy'}, inplace=True)"
   ],
   "metadata": {
    "collapsed": false,
    "ExecuteTime": {
     "end_time": "2023-07-26T17:32:15.313268200Z",
     "start_time": "2023-07-26T17:32:15.282025300Z"
    }
   }
  },
  {
   "cell_type": "code",
   "execution_count": 1382,
   "outputs": [],
   "source": [
    "\n",
    "history.to_csv('results/history.csv', index=True, index_label = \"Epoch\")"
   ],
   "metadata": {
    "collapsed": false,
    "ExecuteTime": {
     "end_time": "2023-07-26T17:32:15.344515300Z",
     "start_time": "2023-07-26T17:32:15.282025300Z"
    }
   }
  },
  {
   "cell_type": "code",
   "execution_count": 1383,
   "outputs": [],
   "source": [
    "DataFrame(data={'Test Loss': eval[0], 'Test Accuracy': eval[1]}, index=[1]).to_csv('results/evaluation.csv', index=False)"
   ],
   "metadata": {
    "collapsed": false,
    "ExecuteTime": {
     "end_time": "2023-07-26T17:32:15.391308800Z",
     "start_time": "2023-07-26T17:32:15.313268200Z"
    }
   }
  },
  {
   "cell_type": "code",
   "execution_count": 1384,
   "outputs": [],
   "source": [
    "model.save(filepath='results/model.keras', overwrite=True)"
   ],
   "metadata": {
    "collapsed": false,
    "ExecuteTime": {
     "end_time": "2023-07-26T17:32:15.391308800Z",
     "start_time": "2023-07-26T17:32:15.313268200Z"
    }
   }
  }
 ],
 "metadata": {
  "kernelspec": {
   "display_name": "Python 3",
   "language": "python",
   "name": "python3"
  },
  "language_info": {
   "codemirror_mode": {
    "name": "ipython",
    "version": 2
   },
   "file_extension": ".py",
   "mimetype": "text/x-python",
   "name": "python",
   "nbconvert_exporter": "python",
   "pygments_lexer": "ipython2",
   "version": "2.7.6"
  }
 },
 "nbformat": 4,
 "nbformat_minor": 0
}
