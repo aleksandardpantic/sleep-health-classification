{
 "cells": [
  {
   "cell_type": "code",
   "execution_count": 1,
   "metadata": {
    "collapsed": true,
    "ExecuteTime": {
     "end_time": "2023-07-24T17:56:40.607886100Z",
     "start_time": "2023-07-24T17:56:40.165823Z"
    }
   },
   "outputs": [],
   "source": [
    "import pandas as pd\n",
    "import numpy as np\n",
    "\n",
    "data = pd.read_csv('sleep_health_clean.csv',sep=';')"
   ]
  },
  {
   "cell_type": "code",
   "execution_count": 2,
   "outputs": [
    {
     "data": {
      "text/plain": "        Person ID         Age  Sleep Duration  Quality of Sleep  \\\ncount  374.000000  374.000000      374.000000        374.000000   \nmean   187.500000   42.184492        7.132086          7.312834   \nstd    108.108742    8.673133        0.795657          1.196956   \nmin      1.000000   27.000000        5.800000          4.000000   \n25%     94.250000   35.250000        6.400000          6.000000   \n50%    187.500000   43.000000        7.200000          7.000000   \n75%    280.750000   50.000000        7.800000          8.000000   \nmax    374.000000   59.000000        8.500000          9.000000   \n\n       Physical Activity Level  Stress Level  Systolic Blood Pressure  \\\ncount               374.000000    374.000000               374.000000   \nmean                 59.171123      5.385027               128.553476   \nstd                  20.830804      1.774526                 7.748118   \nmin                  30.000000      3.000000               115.000000   \n25%                  45.000000      4.000000               125.000000   \n50%                  60.000000      5.000000               130.000000   \n75%                  75.000000      7.000000               135.000000   \nmax                  90.000000      8.000000               142.000000   \n\n       Diastolic Blood Pressure  Heart Rate   Daily Steps  \ncount                374.000000  374.000000    374.000000  \nmean                  84.649733   70.165775   6816.844920  \nstd                    6.161611    4.135676   1617.915679  \nmin                   75.000000   65.000000   3000.000000  \n25%                   80.000000   68.000000   5600.000000  \n50%                   85.000000   70.000000   7000.000000  \n75%                   90.000000   72.000000   8000.000000  \nmax                   95.000000   86.000000  10000.000000  ",
      "text/html": "<div>\n<style scoped>\n    .dataframe tbody tr th:only-of-type {\n        vertical-align: middle;\n    }\n\n    .dataframe tbody tr th {\n        vertical-align: top;\n    }\n\n    .dataframe thead th {\n        text-align: right;\n    }\n</style>\n<table border=\"1\" class=\"dataframe\">\n  <thead>\n    <tr style=\"text-align: right;\">\n      <th></th>\n      <th>Person ID</th>\n      <th>Age</th>\n      <th>Sleep Duration</th>\n      <th>Quality of Sleep</th>\n      <th>Physical Activity Level</th>\n      <th>Stress Level</th>\n      <th>Systolic Blood Pressure</th>\n      <th>Diastolic Blood Pressure</th>\n      <th>Heart Rate</th>\n      <th>Daily Steps</th>\n    </tr>\n  </thead>\n  <tbody>\n    <tr>\n      <th>count</th>\n      <td>374.000000</td>\n      <td>374.000000</td>\n      <td>374.000000</td>\n      <td>374.000000</td>\n      <td>374.000000</td>\n      <td>374.000000</td>\n      <td>374.000000</td>\n      <td>374.000000</td>\n      <td>374.000000</td>\n      <td>374.000000</td>\n    </tr>\n    <tr>\n      <th>mean</th>\n      <td>187.500000</td>\n      <td>42.184492</td>\n      <td>7.132086</td>\n      <td>7.312834</td>\n      <td>59.171123</td>\n      <td>5.385027</td>\n      <td>128.553476</td>\n      <td>84.649733</td>\n      <td>70.165775</td>\n      <td>6816.844920</td>\n    </tr>\n    <tr>\n      <th>std</th>\n      <td>108.108742</td>\n      <td>8.673133</td>\n      <td>0.795657</td>\n      <td>1.196956</td>\n      <td>20.830804</td>\n      <td>1.774526</td>\n      <td>7.748118</td>\n      <td>6.161611</td>\n      <td>4.135676</td>\n      <td>1617.915679</td>\n    </tr>\n    <tr>\n      <th>min</th>\n      <td>1.000000</td>\n      <td>27.000000</td>\n      <td>5.800000</td>\n      <td>4.000000</td>\n      <td>30.000000</td>\n      <td>3.000000</td>\n      <td>115.000000</td>\n      <td>75.000000</td>\n      <td>65.000000</td>\n      <td>3000.000000</td>\n    </tr>\n    <tr>\n      <th>25%</th>\n      <td>94.250000</td>\n      <td>35.250000</td>\n      <td>6.400000</td>\n      <td>6.000000</td>\n      <td>45.000000</td>\n      <td>4.000000</td>\n      <td>125.000000</td>\n      <td>80.000000</td>\n      <td>68.000000</td>\n      <td>5600.000000</td>\n    </tr>\n    <tr>\n      <th>50%</th>\n      <td>187.500000</td>\n      <td>43.000000</td>\n      <td>7.200000</td>\n      <td>7.000000</td>\n      <td>60.000000</td>\n      <td>5.000000</td>\n      <td>130.000000</td>\n      <td>85.000000</td>\n      <td>70.000000</td>\n      <td>7000.000000</td>\n    </tr>\n    <tr>\n      <th>75%</th>\n      <td>280.750000</td>\n      <td>50.000000</td>\n      <td>7.800000</td>\n      <td>8.000000</td>\n      <td>75.000000</td>\n      <td>7.000000</td>\n      <td>135.000000</td>\n      <td>90.000000</td>\n      <td>72.000000</td>\n      <td>8000.000000</td>\n    </tr>\n    <tr>\n      <th>max</th>\n      <td>374.000000</td>\n      <td>59.000000</td>\n      <td>8.500000</td>\n      <td>9.000000</td>\n      <td>90.000000</td>\n      <td>8.000000</td>\n      <td>142.000000</td>\n      <td>95.000000</td>\n      <td>86.000000</td>\n      <td>10000.000000</td>\n    </tr>\n  </tbody>\n</table>\n</div>"
     },
     "execution_count": 2,
     "metadata": {},
     "output_type": "execute_result"
    }
   ],
   "source": [
    "data.describe()"
   ],
   "metadata": {
    "collapsed": false,
    "ExecuteTime": {
     "end_time": "2023-07-24T17:56:46.620760400Z",
     "start_time": "2023-07-24T17:56:46.589516800Z"
    }
   }
  },
  {
   "cell_type": "code",
   "execution_count": null,
   "outputs": [],
   "source": [],
   "metadata": {
    "collapsed": false
   }
  }
 ],
 "metadata": {
  "kernelspec": {
   "display_name": "Python 3",
   "language": "python",
   "name": "python3"
  },
  "language_info": {
   "codemirror_mode": {
    "name": "ipython",
    "version": 2
   },
   "file_extension": ".py",
   "mimetype": "text/x-python",
   "name": "python",
   "nbconvert_exporter": "python",
   "pygments_lexer": "ipython2",
   "version": "2.7.6"
  }
 },
 "nbformat": 4,
 "nbformat_minor": 0
}
