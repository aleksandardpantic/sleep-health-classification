{
 "cells": [
  {
   "cell_type": "code",
   "execution_count": 20,
   "metadata": {
    "collapsed": true,
    "ExecuteTime": {
     "end_time": "2023-07-26T08:07:27.013913800Z",
     "start_time": "2023-07-26T08:07:26.982670900Z"
    }
   },
   "outputs": [],
   "source": [
    "import pandas as pd\n",
    "import numpy as np\n",
    "\n",
    "data = pd.read_csv('sleep_health_clean.csv',sep=';')"
   ]
  },
  {
   "cell_type": "code",
   "execution_count": 21,
   "outputs": [
    {
     "data": {
      "text/plain": "        Person ID         Age  Sleep Duration  Quality of Sleep  \\\ncount  374.000000  374.000000      374.000000        374.000000   \nmean   187.500000   42.184492        7.132086          7.312834   \nstd    108.108742    8.673133        0.795657          1.196956   \nmin      1.000000   27.000000        5.800000          4.000000   \n25%     94.250000   35.250000        6.400000          6.000000   \n50%    187.500000   43.000000        7.200000          7.000000   \n75%    280.750000   50.000000        7.800000          8.000000   \nmax    374.000000   59.000000        8.500000          9.000000   \n\n       Physical Activity Level  Stress Level  Systolic Blood Pressure  \\\ncount               374.000000    374.000000               374.000000   \nmean                 59.171123      5.385027               128.553476   \nstd                  20.830804      1.774526                 7.748118   \nmin                  30.000000      3.000000               115.000000   \n25%                  45.000000      4.000000               125.000000   \n50%                  60.000000      5.000000               130.000000   \n75%                  75.000000      7.000000               135.000000   \nmax                  90.000000      8.000000               142.000000   \n\n       Diastolic Blood Pressure  Heart Rate   Daily Steps  \ncount                374.000000  374.000000    374.000000  \nmean                  84.649733   70.165775   6816.844920  \nstd                    6.161611    4.135676   1617.915679  \nmin                   75.000000   65.000000   3000.000000  \n25%                   80.000000   68.000000   5600.000000  \n50%                   85.000000   70.000000   7000.000000  \n75%                   90.000000   72.000000   8000.000000  \nmax                   95.000000   86.000000  10000.000000  ",
      "text/html": "<div>\n<style scoped>\n    .dataframe tbody tr th:only-of-type {\n        vertical-align: middle;\n    }\n\n    .dataframe tbody tr th {\n        vertical-align: top;\n    }\n\n    .dataframe thead th {\n        text-align: right;\n    }\n</style>\n<table border=\"1\" class=\"dataframe\">\n  <thead>\n    <tr style=\"text-align: right;\">\n      <th></th>\n      <th>Person ID</th>\n      <th>Age</th>\n      <th>Sleep Duration</th>\n      <th>Quality of Sleep</th>\n      <th>Physical Activity Level</th>\n      <th>Stress Level</th>\n      <th>Systolic Blood Pressure</th>\n      <th>Diastolic Blood Pressure</th>\n      <th>Heart Rate</th>\n      <th>Daily Steps</th>\n    </tr>\n  </thead>\n  <tbody>\n    <tr>\n      <th>count</th>\n      <td>374.000000</td>\n      <td>374.000000</td>\n      <td>374.000000</td>\n      <td>374.000000</td>\n      <td>374.000000</td>\n      <td>374.000000</td>\n      <td>374.000000</td>\n      <td>374.000000</td>\n      <td>374.000000</td>\n      <td>374.000000</td>\n    </tr>\n    <tr>\n      <th>mean</th>\n      <td>187.500000</td>\n      <td>42.184492</td>\n      <td>7.132086</td>\n      <td>7.312834</td>\n      <td>59.171123</td>\n      <td>5.385027</td>\n      <td>128.553476</td>\n      <td>84.649733</td>\n      <td>70.165775</td>\n      <td>6816.844920</td>\n    </tr>\n    <tr>\n      <th>std</th>\n      <td>108.108742</td>\n      <td>8.673133</td>\n      <td>0.795657</td>\n      <td>1.196956</td>\n      <td>20.830804</td>\n      <td>1.774526</td>\n      <td>7.748118</td>\n      <td>6.161611</td>\n      <td>4.135676</td>\n      <td>1617.915679</td>\n    </tr>\n    <tr>\n      <th>min</th>\n      <td>1.000000</td>\n      <td>27.000000</td>\n      <td>5.800000</td>\n      <td>4.000000</td>\n      <td>30.000000</td>\n      <td>3.000000</td>\n      <td>115.000000</td>\n      <td>75.000000</td>\n      <td>65.000000</td>\n      <td>3000.000000</td>\n    </tr>\n    <tr>\n      <th>25%</th>\n      <td>94.250000</td>\n      <td>35.250000</td>\n      <td>6.400000</td>\n      <td>6.000000</td>\n      <td>45.000000</td>\n      <td>4.000000</td>\n      <td>125.000000</td>\n      <td>80.000000</td>\n      <td>68.000000</td>\n      <td>5600.000000</td>\n    </tr>\n    <tr>\n      <th>50%</th>\n      <td>187.500000</td>\n      <td>43.000000</td>\n      <td>7.200000</td>\n      <td>7.000000</td>\n      <td>60.000000</td>\n      <td>5.000000</td>\n      <td>130.000000</td>\n      <td>85.000000</td>\n      <td>70.000000</td>\n      <td>7000.000000</td>\n    </tr>\n    <tr>\n      <th>75%</th>\n      <td>280.750000</td>\n      <td>50.000000</td>\n      <td>7.800000</td>\n      <td>8.000000</td>\n      <td>75.000000</td>\n      <td>7.000000</td>\n      <td>135.000000</td>\n      <td>90.000000</td>\n      <td>72.000000</td>\n      <td>8000.000000</td>\n    </tr>\n    <tr>\n      <th>max</th>\n      <td>374.000000</td>\n      <td>59.000000</td>\n      <td>8.500000</td>\n      <td>9.000000</td>\n      <td>90.000000</td>\n      <td>8.000000</td>\n      <td>142.000000</td>\n      <td>95.000000</td>\n      <td>86.000000</td>\n      <td>10000.000000</td>\n    </tr>\n  </tbody>\n</table>\n</div>"
     },
     "execution_count": 21,
     "metadata": {},
     "output_type": "execute_result"
    }
   ],
   "source": [
    "data.describe()"
   ],
   "metadata": {
    "collapsed": false,
    "ExecuteTime": {
     "end_time": "2023-07-26T08:07:27.076399400Z",
     "start_time": "2023-07-26T08:07:27.013913800Z"
    }
   }
  },
  {
   "cell_type": "code",
   "execution_count": 22,
   "outputs": [
    {
     "data": {
      "text/plain": "Index(['Person ID', 'Gender', 'Age', 'Occupation', 'Sleep Duration',\n       'Quality of Sleep', 'Physical Activity Level', 'Stress Level',\n       'BMI Category', 'Systolic Blood Pressure', 'Diastolic Blood Pressure',\n       'Heart Rate', 'Daily Steps', 'Sleep Disorder'],\n      dtype='object')"
     },
     "execution_count": 22,
     "metadata": {},
     "output_type": "execute_result"
    }
   ],
   "source": [
    "data.columns"
   ],
   "metadata": {
    "collapsed": false,
    "ExecuteTime": {
     "end_time": "2023-07-26T08:07:27.076399400Z",
     "start_time": "2023-07-26T08:07:27.076399400Z"
    }
   }
  },
  {
   "cell_type": "code",
   "execution_count": 23,
   "outputs": [
    {
     "name": "stdout",
     "output_type": "stream",
     "text": [
      "Person ID\n",
      "374\n",
      "\n",
      "Gender\n",
      "2\n",
      "\n",
      "Age\n",
      "31\n",
      "\n",
      "Occupation\n",
      "11\n",
      "\n",
      "Sleep Duration\n",
      "27\n",
      "\n",
      "Quality of Sleep\n",
      "6\n",
      "\n",
      "Physical Activity Level\n",
      "16\n",
      "\n",
      "Stress Level\n",
      "6\n",
      "\n",
      "BMI Category\n",
      "4\n",
      "\n",
      "Systolic Blood Pressure\n",
      "18\n",
      "\n",
      "Diastolic Blood Pressure\n",
      "17\n",
      "\n",
      "Heart Rate\n",
      "19\n",
      "\n",
      "Daily Steps\n",
      "20\n",
      "\n",
      "Sleep Disorder\n",
      "3\n",
      "\n"
     ]
    }
   ],
   "source": [
    "for col in data:\n",
    "    print(col)\n",
    "    print(len(data[col].unique()))\n",
    "    print()"
   ],
   "metadata": {
    "collapsed": false,
    "ExecuteTime": {
     "end_time": "2023-07-26T08:07:27.170126900Z",
     "start_time": "2023-07-26T08:07:27.092020900Z"
    }
   }
  },
  {
   "cell_type": "code",
   "execution_count": 24,
   "outputs": [
    {
     "data": {
      "text/plain": "   Person ID Gender  Age Occupation  Sleep Duration  Quality of Sleep  \\\n0          2   Male   28     Doctor             6.2                 6   \n1          3   Male   28     Doctor             6.2                 6   \n2         34   Male   31     Doctor             6.1                 6   \n3         36   Male   31     Doctor             6.1                 6   \n4         37   Male   31     Doctor             6.1                 6   \n\n   Physical Activity Level  Stress Level BMI Category  \\\n0                       60             8       Normal   \n1                       60             8       Normal   \n2                       30             8       Normal   \n3                       30             8       Normal   \n4                       30             8       Normal   \n\n   Systolic Blood Pressure  Diastolic Blood Pressure  Heart Rate  Daily Steps  \\\n0                      125                        80          75        10000   \n1                      125                        80          75        10000   \n2                      125                        80          72         5000   \n3                      125                        80          72         5000   \n4                      125                        80          72         5000   \n\n  Sleep Disorder  \n0           None  \n1           None  \n2           None  \n3           None  \n4           None  ",
      "text/html": "<div>\n<style scoped>\n    .dataframe tbody tr th:only-of-type {\n        vertical-align: middle;\n    }\n\n    .dataframe tbody tr th {\n        vertical-align: top;\n    }\n\n    .dataframe thead th {\n        text-align: right;\n    }\n</style>\n<table border=\"1\" class=\"dataframe\">\n  <thead>\n    <tr style=\"text-align: right;\">\n      <th></th>\n      <th>Person ID</th>\n      <th>Gender</th>\n      <th>Age</th>\n      <th>Occupation</th>\n      <th>Sleep Duration</th>\n      <th>Quality of Sleep</th>\n      <th>Physical Activity Level</th>\n      <th>Stress Level</th>\n      <th>BMI Category</th>\n      <th>Systolic Blood Pressure</th>\n      <th>Diastolic Blood Pressure</th>\n      <th>Heart Rate</th>\n      <th>Daily Steps</th>\n      <th>Sleep Disorder</th>\n    </tr>\n  </thead>\n  <tbody>\n    <tr>\n      <th>0</th>\n      <td>2</td>\n      <td>Male</td>\n      <td>28</td>\n      <td>Doctor</td>\n      <td>6.2</td>\n      <td>6</td>\n      <td>60</td>\n      <td>8</td>\n      <td>Normal</td>\n      <td>125</td>\n      <td>80</td>\n      <td>75</td>\n      <td>10000</td>\n      <td>None</td>\n    </tr>\n    <tr>\n      <th>1</th>\n      <td>3</td>\n      <td>Male</td>\n      <td>28</td>\n      <td>Doctor</td>\n      <td>6.2</td>\n      <td>6</td>\n      <td>60</td>\n      <td>8</td>\n      <td>Normal</td>\n      <td>125</td>\n      <td>80</td>\n      <td>75</td>\n      <td>10000</td>\n      <td>None</td>\n    </tr>\n    <tr>\n      <th>2</th>\n      <td>34</td>\n      <td>Male</td>\n      <td>31</td>\n      <td>Doctor</td>\n      <td>6.1</td>\n      <td>6</td>\n      <td>30</td>\n      <td>8</td>\n      <td>Normal</td>\n      <td>125</td>\n      <td>80</td>\n      <td>72</td>\n      <td>5000</td>\n      <td>None</td>\n    </tr>\n    <tr>\n      <th>3</th>\n      <td>36</td>\n      <td>Male</td>\n      <td>31</td>\n      <td>Doctor</td>\n      <td>6.1</td>\n      <td>6</td>\n      <td>30</td>\n      <td>8</td>\n      <td>Normal</td>\n      <td>125</td>\n      <td>80</td>\n      <td>72</td>\n      <td>5000</td>\n      <td>None</td>\n    </tr>\n    <tr>\n      <th>4</th>\n      <td>37</td>\n      <td>Male</td>\n      <td>31</td>\n      <td>Doctor</td>\n      <td>6.1</td>\n      <td>6</td>\n      <td>30</td>\n      <td>8</td>\n      <td>Normal</td>\n      <td>125</td>\n      <td>80</td>\n      <td>72</td>\n      <td>5000</td>\n      <td>None</td>\n    </tr>\n  </tbody>\n</table>\n</div>"
     },
     "execution_count": 24,
     "metadata": {},
     "output_type": "execute_result"
    }
   ],
   "source": [
    "data[\"Sleep Disorder\"] = data[\"Sleep Disorder\"].replace([None], \"None\")\n",
    "data.head()"
   ],
   "metadata": {
    "collapsed": false,
    "ExecuteTime": {
     "end_time": "2023-07-26T08:07:27.185748500Z",
     "start_time": "2023-07-26T08:07:27.107642400Z"
    }
   }
  },
  {
   "cell_type": "code",
   "execution_count": 25,
   "outputs": [],
   "source": [
    "data.drop(columns=[\"Person ID\", \"Diastolic Blood Pressure\"],inplace=True)\n"
   ],
   "metadata": {
    "collapsed": false,
    "ExecuteTime": {
     "end_time": "2023-07-26T08:07:27.232612400Z",
     "start_time": "2023-07-26T08:07:27.138884300Z"
    }
   }
  },
  {
   "cell_type": "code",
   "execution_count": 26,
   "outputs": [],
   "source": [
    "\n",
    "X = data.drop(columns=[\"Sleep Disorder\"], inplace=False)\n",
    "y = data[\"Sleep Disorder\"]"
   ],
   "metadata": {
    "collapsed": false,
    "ExecuteTime": {
     "end_time": "2023-07-26T08:07:27.232612400Z",
     "start_time": "2023-07-26T08:07:27.138884300Z"
    }
   }
  },
  {
   "cell_type": "code",
   "execution_count": 27,
   "outputs": [],
   "source": [
    "numerical_cols = X.select_dtypes(include=['int64', 'float64']).columns\n",
    "categorical_cols = X.select_dtypes(include=['object', 'bool']).columns"
   ],
   "metadata": {
    "collapsed": false,
    "ExecuteTime": {
     "end_time": "2023-07-26T08:07:27.232612400Z",
     "start_time": "2023-07-26T08:07:27.154505600Z"
    }
   }
  },
  {
   "cell_type": "markdown",
   "source": [
    "from sklearn.preprocessing import OrdinalEncoder\n",
    "\n",
    "gender_encoder = OrdinalEncoder(categories=[[\"Female\", \"Male\"]], dtype=np.int8)\n",
    "\n",
    "data[\"Gender\"] = gender_encoder.fit_transform(data[\"Gender\"].values.reshape(-1,1))\n",
    "data.head()"
   ],
   "metadata": {
    "collapsed": false
   }
  },
  {
   "cell_type": "markdown",
   "source": [
    "bmi_encoder = OrdinalEncoder(categories=[[\"Normal\", \"Normal Weight\", \"Overweight\", \"Obese\"]], dtype=np.int8)\n",
    "\n",
    "data[\"BMI Category\"] = bmi_encoder.fit_transform(data[\"BMI Category\"].values.reshape(-1,1))\n",
    "data.head()"
   ],
   "metadata": {
    "collapsed": false
   }
  },
  {
   "cell_type": "code",
   "execution_count": 28,
   "outputs": [],
   "source": [
    "from sklearn.preprocessing import OneHotEncoder\n",
    "from sklearn.compose import ColumnTransformer\n",
    "from sklearn.preprocessing import OrdinalEncoder\n",
    "ct = ColumnTransformer(transformers=\n",
    "    [(\"one_hot_encoder\",OneHotEncoder(),[\"Occupation\"]),\n",
    "     (\"bmi_encoder\",OrdinalEncoder(categories=[[\"Normal\", \"Normal Weight\", \"Overweight\", \"Obese\"]], dtype=np.int8),[\"BMI Category\"]),\n",
    "     (\"gender_encoder\", OrdinalEncoder(categories=[[\"Female\", \"Male\"]], dtype=np.int8),[\"Gender\"])], remainder='passthrough'\n",
    ")\n",
    "X = ct.fit_transform(X)\n"
   ],
   "metadata": {
    "collapsed": false,
    "ExecuteTime": {
     "end_time": "2023-07-26T08:07:27.232612400Z",
     "start_time": "2023-07-26T08:07:27.170126900Z"
    }
   }
  },
  {
   "cell_type": "code",
   "execution_count": 29,
   "outputs": [],
   "source": [
    "cols = ct.get_feature_names_out()\n",
    "X = pd.DataFrame(data=X, columns=cols)"
   ],
   "metadata": {
    "collapsed": false,
    "ExecuteTime": {
     "end_time": "2023-07-26T08:07:27.295097200Z",
     "start_time": "2023-07-26T08:07:27.232612400Z"
    }
   }
  },
  {
   "cell_type": "code",
   "execution_count": 30,
   "outputs": [
    {
     "data": {
      "text/plain": "(374,)"
     },
     "execution_count": 30,
     "metadata": {},
     "output_type": "execute_result"
    }
   ],
   "source": [
    "y.shape"
   ],
   "metadata": {
    "collapsed": false,
    "ExecuteTime": {
     "end_time": "2023-07-26T08:07:27.341962Z",
     "start_time": "2023-07-26T08:07:27.263855400Z"
    }
   }
  },
  {
   "cell_type": "code",
   "execution_count": 31,
   "outputs": [],
   "source": [
    "y = y.values.reshape(-1,1)"
   ],
   "metadata": {
    "collapsed": false,
    "ExecuteTime": {
     "end_time": "2023-07-26T08:07:27.341962Z",
     "start_time": "2023-07-26T08:07:27.295097200Z"
    }
   }
  },
  {
   "cell_type": "code",
   "execution_count": 32,
   "outputs": [],
   "source": [
    "\n",
    "y_encoder = OneHotEncoder()\n",
    "\n",
    "y = y_encoder.fit_transform(y)\n",
    "\n"
   ],
   "metadata": {
    "collapsed": false,
    "ExecuteTime": {
     "end_time": "2023-07-26T08:07:27.388825400Z",
     "start_time": "2023-07-26T08:07:27.341962Z"
    }
   }
  },
  {
   "cell_type": "code",
   "execution_count": 33,
   "outputs": [],
   "source": [
    "y = y.toarray()"
   ],
   "metadata": {
    "collapsed": false,
    "ExecuteTime": {
     "end_time": "2023-07-26T08:07:27.388825400Z",
     "start_time": "2023-07-26T08:07:27.388825400Z"
    }
   }
  },
  {
   "cell_type": "code",
   "execution_count": 34,
   "outputs": [],
   "source": [
    "y = pd.DataFrame(y, columns=y_encoder.get_feature_names_out())"
   ],
   "metadata": {
    "collapsed": false,
    "ExecuteTime": {
     "end_time": "2023-07-26T08:07:27.458935500Z",
     "start_time": "2023-07-26T08:07:27.400973700Z"
    }
   }
  },
  {
   "cell_type": "code",
   "execution_count": 35,
   "outputs": [],
   "source": [
    "from sklearn.model_selection import train_test_split\n",
    "\n",
    "X_train,X_test, y_train, y_test = train_test_split(X,y, test_size=0.3, random_state=101)"
   ],
   "metadata": {
    "collapsed": false,
    "ExecuteTime": {
     "end_time": "2023-07-26T08:07:27.461927700Z",
     "start_time": "2023-07-26T08:07:27.440984100Z"
    }
   }
  },
  {
   "cell_type": "code",
   "execution_count": 36,
   "outputs": [],
   "source": [
    "from sklearn.preprocessing import MinMaxScaler, RobustScaler\n",
    "\n",
    "daily_steps_scaler = RobustScaler()\n",
    "\n",
    "X_train.iloc[:,-1] = daily_steps_scaler.fit_transform(X_train.iloc[:,-1].values.reshape(-1,1))\n",
    "\n",
    "X_test.iloc[:,-1] = daily_steps_scaler.transform(X_test.iloc[:,-1].values.reshape(-1,1))"
   ],
   "metadata": {
    "collapsed": false,
    "ExecuteTime": {
     "end_time": "2023-07-26T08:07:27.501819900Z",
     "start_time": "2023-07-26T08:07:27.467911500Z"
    }
   }
  },
  {
   "cell_type": "code",
   "execution_count": 37,
   "outputs": [],
   "source": [
    "scaler = MinMaxScaler()\n",
    "\n",
    "X_train.iloc[:,-8:-2] = scaler.fit_transform(X_train.iloc[:,-8:-2])\n",
    "X_test.iloc[:,-8:-2] = scaler.transform(X_test.iloc[:,-8:-2])"
   ],
   "metadata": {
    "collapsed": false,
    "ExecuteTime": {
     "end_time": "2023-07-26T08:07:27.521791200Z",
     "start_time": "2023-07-26T08:07:27.489852700Z"
    }
   }
  },
  {
   "cell_type": "code",
   "execution_count": 38,
   "outputs": [],
   "source": [
    "X_train.to_csv('data/X_train.csv', index=False)\n",
    "X_test.to_csv('data/X_test.csv', index=False)\n",
    "y_train.to_csv('data/y_train.csv', index=False)\n",
    "y_test.to_csv('data/y_test.csv', index=False)"
   ],
   "metadata": {
    "collapsed": false,
    "ExecuteTime": {
     "end_time": "2023-07-26T08:07:27.550714400Z",
     "start_time": "2023-07-26T08:07:27.518800600Z"
    }
   }
  }
 ],
 "metadata": {
  "kernelspec": {
   "display_name": "Python 3",
   "language": "python",
   "name": "python3"
  },
  "language_info": {
   "codemirror_mode": {
    "name": "ipython",
    "version": 2
   },
   "file_extension": ".py",
   "mimetype": "text/x-python",
   "name": "python",
   "nbconvert_exporter": "python",
   "pygments_lexer": "ipython2",
   "version": "2.7.6"
  }
 },
 "nbformat": 4,
 "nbformat_minor": 0
}
