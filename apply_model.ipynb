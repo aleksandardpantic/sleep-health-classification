{
 "cells": [
  {
   "cell_type": "code",
   "execution_count": 250,
   "id": "initial_id",
   "metadata": {
    "collapsed": true,
    "ExecuteTime": {
     "end_time": "2023-08-21T09:53:38.195986200Z",
     "start_time": "2023-08-21T09:53:38.097134Z"
    }
   },
   "outputs": [],
   "source": [
    "from keras.models import load_model, Model\n",
    "from sklearn.pipeline import Pipeline\n",
    "from sklearn.preprocessing import OneHotEncoder\n",
    "import joblib\n",
    "import numpy as np\n",
    "import warnings\n",
    "warnings.filterwarnings('ignore')\n",
    "\n",
    "predictor_pipeline: Pipeline = joblib.load('data-pipelines-bin/predictor_pipeline')\n",
    "target_pipeline: Pipeline = joblib.load('data-pipelines-bin/target_pipeline')"
   ]
  },
  {
   "cell_type": "markdown",
   "source": [
    "Data for prediction"
   ],
   "metadata": {
    "collapsed": false
   },
   "id": "24ea1239dd97913e"
  },
  {
   "cell_type": "code",
   "execution_count": 251,
   "outputs": [],
   "source": [
    "# id_n = 0\n",
    "# gender = 'Male'\n",
    "# age = 24\n",
    "# occupation = 'Software Engineer'\n",
    "# sleep_duration = 6\n",
    "# quality_of_sleep = 2\n",
    "# physical_activity_level = 7\n",
    "# stress_level = 6\n",
    "# bmi_category = 'Normal Weight'\n",
    "# systolic_bp = 125\n",
    "# diastolic_bp = 80\n",
    "# heart_rate = 70\n",
    "# daily_steps =  5000"
   ],
   "metadata": {
    "collapsed": false,
    "ExecuteTime": {
     "end_time": "2023-08-21T09:53:38.195986200Z",
     "start_time": "2023-08-21T09:53:38.149149900Z"
    }
   },
   "id": "925f53c8e38ea67e"
  },
  {
   "cell_type": "code",
   "execution_count": 252,
   "outputs": [],
   "source": [
    "id_n = 0\n",
    "gender = 'Male'\n",
    "age = 45\n",
    "occupation = 'Software Engineer'\n",
    "sleep_duration = 7\n",
    "quality_of_sleep = 4\n",
    "physical_activity_level = 4\n",
    "stress_level = 6\n",
    "bmi_category = 'Normal'\n",
    "systolic_bp = 130\n",
    "diastolic_bp = 80\n",
    "heart_rate = 70\n",
    "daily_steps =  4000"
   ],
   "metadata": {
    "collapsed": false,
    "ExecuteTime": {
     "end_time": "2023-08-21T09:53:38.289897700Z",
     "start_time": "2023-08-21T09:53:38.195986200Z"
    }
   },
   "id": "1b68d8166d3a614e"
  },
  {
   "cell_type": "markdown",
   "source": [
    "Format and reshape the data"
   ],
   "metadata": {
    "collapsed": false
   },
   "id": "7deb2195532a325f"
  },
  {
   "cell_type": "code",
   "execution_count": 253,
   "outputs": [
    {
     "data": {
      "text/plain": "array([['0', 'Male', '45', 'Software Engineer', '7', '4', '4', '6',\n        'Normal', '130', '80', '70', '4000']], dtype='<U17')"
     },
     "execution_count": 253,
     "metadata": {},
     "output_type": "execute_result"
    }
   ],
   "source": [
    "newdata = [id_n, gender,age, occupation, sleep_duration, quality_of_sleep, physical_activity_level, stress_level, bmi_category, systolic_bp, diastolic_bp, heart_rate, daily_steps]\n",
    "\n",
    "newdata = np.array(newdata).reshape(1,-1)\n",
    "newdata"
   ],
   "metadata": {
    "collapsed": false,
    "ExecuteTime": {
     "end_time": "2023-08-21T09:53:38.289897700Z",
     "start_time": "2023-08-21T09:53:38.227229Z"
    }
   },
   "id": "cec531016703616a"
  },
  {
   "cell_type": "markdown",
   "source": [
    "Transform data for the network"
   ],
   "metadata": {
    "collapsed": false
   },
   "id": "731b720154e6e4f9"
  },
  {
   "cell_type": "code",
   "execution_count": 254,
   "outputs": [
    {
     "data": {
      "text/plain": "array([[ 1.        ,  0.        ,  0.        ,  0.        ,  0.        ,\n         0.        ,  0.        ,  0.        ,  0.        ,  1.        ,\n         0.        ,  0.        ,  0.32505895, -2.77142374, -2.65208344,\n         0.34702051,  0.18694371, -0.04013793]])"
     },
     "execution_count": 254,
     "metadata": {},
     "output_type": "execute_result"
    }
   ],
   "source": [
    "newdata = predictor_pipeline.transform(newdata)\n",
    "newdata"
   ],
   "metadata": {
    "collapsed": false,
    "ExecuteTime": {
     "end_time": "2023-08-21T09:53:38.289897700Z",
     "start_time": "2023-08-21T09:53:38.243003400Z"
    }
   },
   "id": "bcfa0ce47be4fc62"
  },
  {
   "cell_type": "markdown",
   "source": [
    "Load trained model"
   ],
   "metadata": {
    "collapsed": false
   },
   "id": "3d24f103ddc994b"
  },
  {
   "cell_type": "code",
   "execution_count": 255,
   "outputs": [],
   "source": [
    "model: Model = load_model('results/model.keras')"
   ],
   "metadata": {
    "collapsed": false,
    "ExecuteTime": {
     "end_time": "2023-08-21T09:53:38.349131200Z",
     "start_time": "2023-08-21T09:53:38.258626400Z"
    }
   },
   "id": "23af74c11325454a"
  },
  {
   "cell_type": "markdown",
   "source": [
    "Make predictions"
   ],
   "metadata": {
    "collapsed": false
   },
   "id": "6b8212f97a3f9015"
  },
  {
   "cell_type": "code",
   "execution_count": 256,
   "outputs": [
    {
     "name": "stdout",
     "output_type": "stream",
     "text": [
      "1/1 [==============================] - 0s 47ms/step\n"
     ]
    }
   ],
   "source": [
    "result = model.predict(newdata)"
   ],
   "metadata": {
    "collapsed": false,
    "ExecuteTime": {
     "end_time": "2023-08-21T09:53:38.445757500Z",
     "start_time": "2023-08-21T09:53:38.348125700Z"
    }
   },
   "id": "7b96e929e73ea65c"
  },
  {
   "cell_type": "markdown",
   "source": [
    "These results represent percent chance of diagnosis (Insomnia, Sleep Apnea, none/No disorder)"
   ],
   "metadata": {
    "collapsed": false
   },
   "id": "e27691eb25e4d087"
  },
  {
   "cell_type": "code",
   "execution_count": 257,
   "outputs": [
    {
     "data": {
      "text/plain": "array([[0.96686167, 0.00658598, 0.02655225]], dtype=float32)"
     },
     "execution_count": 257,
     "metadata": {},
     "output_type": "execute_result"
    }
   ],
   "source": [
    "result"
   ],
   "metadata": {
    "collapsed": false,
    "ExecuteTime": {
     "end_time": "2023-08-21T09:53:38.498617100Z",
     "start_time": "2023-08-21T09:53:38.445757500Z"
    }
   },
   "id": "8d3355904935544"
  },
  {
   "cell_type": "markdown",
   "source": [
    "Inverse transforming this result will give a clear interpretation"
   ],
   "metadata": {
    "collapsed": false
   },
   "id": "ede82354b0a8dd6b"
  },
  {
   "cell_type": "code",
   "execution_count": 258,
   "outputs": [],
   "source": [
    "target_encoder: OneHotEncoder = target_pipeline.steps[1][1]"
   ],
   "metadata": {
    "collapsed": false,
    "ExecuteTime": {
     "end_time": "2023-08-21T09:53:38.498617100Z",
     "start_time": "2023-08-21T09:53:38.461380100Z"
    }
   },
   "id": "9bf2d3a1f6bee2d5"
  },
  {
   "cell_type": "code",
   "execution_count": 259,
   "outputs": [
    {
     "data": {
      "text/plain": "array([['Insomnia']], dtype=object)"
     },
     "execution_count": 259,
     "metadata": {},
     "output_type": "execute_result"
    }
   ],
   "source": [
    "result = target_encoder.inverse_transform(result)\n",
    "result"
   ],
   "metadata": {
    "collapsed": false,
    "ExecuteTime": {
     "end_time": "2023-08-21T09:53:38.498617100Z",
     "start_time": "2023-08-21T09:53:38.477001500Z"
    }
   },
   "id": "dd62dd08177bb14"
  }
 ],
 "metadata": {
  "kernelspec": {
   "display_name": "Python 3",
   "language": "python",
   "name": "python3"
  },
  "language_info": {
   "codemirror_mode": {
    "name": "ipython",
    "version": 2
   },
   "file_extension": ".py",
   "mimetype": "text/x-python",
   "name": "python",
   "nbconvert_exporter": "python",
   "pygments_lexer": "ipython2",
   "version": "2.7.6"
  }
 },
 "nbformat": 4,
 "nbformat_minor": 5
}
