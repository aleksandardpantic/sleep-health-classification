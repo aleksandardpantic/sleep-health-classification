{
 "cells": [
  {
   "cell_type": "code",
   "execution_count": 193,
   "outputs": [],
   "source": [
    "n0_of_features = 21\n",
    "layer_1_size = 50\n",
    "layer_2_size = 30\n",
    "layer_3_size = 16\n",
    "layer_4_size = 128\n",
    "learning_rate = 0.009"
   ],
   "metadata": {
    "collapsed": false,
    "ExecuteTime": {
     "end_time": "2023-07-26T08:49:33.468806300Z",
     "start_time": "2023-07-26T08:49:33.455051400Z"
    }
   }
  },
  {
   "cell_type": "code",
   "execution_count": 194,
   "outputs": [],
   "source": [
    "from keras import Input, Model\n",
    "from keras.layers import Dense\n",
    "\n",
    "\n",
    "inputs = Input(shape=(n0_of_features,), name='input')\n",
    "dense1 = Dense(layer_1_size,name='dense_1', activation='relu')(inputs)\n",
    "dense2 = Dense(layer_2_size,name='dense_2', activation='relu')(dense1)\n",
    "dense3 = Dense(layer_3_size,name='dense_3', activation='sigmoid')(dense2)\n",
    "dense4 = Dense(layer_4_size,name='dense_4', activation='sigmoid')(dense3)\n",
    "output1 = Dense(3,name='output', activation='softmax')(dense2)\n",
    "#output2 = Dense(1,name='output_other_cancer', activation='softmax')(dense3)\n",
    "\n",
    "model = Model(inputs = inputs, outputs = output1, name=\"sleep_health_classification_model\")"
   ],
   "metadata": {
    "collapsed": false,
    "ExecuteTime": {
     "end_time": "2023-07-26T08:49:33.531903300Z",
     "start_time": "2023-07-26T08:49:33.468806300Z"
    }
   }
  },
  {
   "cell_type": "code",
   "execution_count": 195,
   "outputs": [],
   "source": [
    "from keras.losses import CategoricalCrossentropy\n",
    "from keras.metrics import CategoricalAccuracy\n",
    "from keras.optimizers import Adam\n",
    "\n",
    "model.compile(loss=CategoricalCrossentropy(name='crossentropy'),\n",
    "              optimizer=Adam(learning_rate=learning_rate),\n",
    "              metrics=[CategoricalAccuracy(name='accuracy')])\n"
   ],
   "metadata": {
    "collapsed": false,
    "ExecuteTime": {
     "end_time": "2023-07-26T08:49:33.547551800Z",
     "start_time": "2023-07-26T08:49:33.531903300Z"
    }
   }
  },
  {
   "cell_type": "code",
   "execution_count": 196,
   "outputs": [
    {
     "name": "stdout",
     "output_type": "stream",
     "text": [
      "Model: \"sleep_health_classification_model\"\n",
      "_________________________________________________________________\n",
      " Layer (type)                Output Shape              Param #   \n",
      "=================================================================\n",
      " input (InputLayer)          [(None, 21)]              0         \n",
      "                                                                 \n",
      " dense_1 (Dense)             (None, 50)                1100      \n",
      "                                                                 \n",
      " dense_2 (Dense)             (None, 30)                1530      \n",
      "                                                                 \n",
      " output (Dense)              (None, 3)                 93        \n",
      "                                                                 \n",
      "=================================================================\n",
      "Total params: 2723 (10.64 KB)\n",
      "Trainable params: 2723 (10.64 KB)\n",
      "Non-trainable params: 0 (0.00 Byte)\n",
      "_________________________________________________________________\n"
     ]
    }
   ],
   "source": [
    "model.summary()"
   ],
   "metadata": {
    "collapsed": false,
    "ExecuteTime": {
     "end_time": "2023-07-26T08:49:33.593276600Z",
     "start_time": "2023-07-26T08:49:33.547551800Z"
    }
   }
  },
  {
   "cell_type": "code",
   "execution_count": 197,
   "outputs": [
    {
     "data": {
      "image/png": "[encoded data removed]",
      "text/plain": "<IPython.core.display.Image object>"
     },
     "execution_count": 197,
     "metadata": {},
     "output_type": "execute_result"
    }
   ],
   "source": [
    "from keras.utils import plot_model\n",
    "\n",
    "plot_model(model,to_file='model/model.png', show_shapes=True,show_layer_names=True, show_layer_activations=True)"
   ],
   "metadata": {
    "collapsed": false,
    "ExecuteTime": {
     "end_time": "2023-07-26T08:49:33.640099800Z",
     "start_time": "2023-07-26T08:49:33.561992300Z"
    }
   }
  },
  {
   "cell_type": "code",
   "execution_count": 198,
   "outputs": [],
   "source": [
    "model.save(filepath='model/model_conf.keras')"
   ],
   "metadata": {
    "collapsed": false,
    "ExecuteTime": {
     "end_time": "2023-07-26T08:49:33.686988300Z",
     "start_time": "2023-07-26T08:49:33.640099800Z"
    }
   }
  }
 ],
 "metadata": {
  "kernelspec": {
   "display_name": "Python 3",
   "language": "python",
   "name": "python3"
  },
  "language_info": {
   "codemirror_mode": {
    "name": "ipython",
    "version": 2
   },
   "file_extension": ".py",
   "mimetype": "text/x-python",
   "name": "python",
   "nbconvert_exporter": "python",
   "pygments_lexer": "ipython2",
   "version": "2.7.6"
  }
 },
 "nbformat": 4,
 "nbformat_minor": 0
}
