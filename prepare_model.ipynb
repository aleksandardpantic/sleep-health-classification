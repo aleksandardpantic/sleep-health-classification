{
 "cells": [
  {
   "cell_type": "code",
   "execution_count": 1,
   "outputs": [],
   "source": [
    "n0_of_features = 21\n",
    "layer_1_size = 64\n",
    "layer_2_size = 32\n",
    "layer_3_size = 256\n",
    "layer_4_size = 128\n",
    "learning_rate = 0.005"
   ],
   "metadata": {
    "collapsed": false,
    "ExecuteTime": {
     "end_time": "2023-07-26T08:19:07.638572500Z",
     "start_time": "2023-07-26T08:19:07.607331400Z"
    }
   }
  },
  {
   "cell_type": "code",
   "execution_count": 2,
   "outputs": [],
   "source": [
    "from keras import Input, Model\n",
    "from keras.layers import Dense\n",
    "\n",
    "\n",
    "inputs = Input(shape=(n0_of_features,), name='input')\n",
    "dense1 = Dense(layer_1_size,name='dense_1', activation='relu')(inputs)\n",
    "dense2 = Dense(layer_2_size,name='dense_2', activation='relu')(dense1)\n",
    "dense3 = Dense(layer_3_size,name='dense_3', activation='relu')(dense2)\n",
    "dense4 = Dense(layer_4_size,name='dense_4', activation='relu')(dense3)\n",
    "output1 = Dense(3,name='output', activation='softmax')(dense2)\n",
    "#output2 = Dense(1,name='output_other_cancer', activation='softmax')(dense3)\n",
    "\n",
    "model = Model(inputs = inputs, outputs = output1, name=\"sleep_health_classification_model\")"
   ],
   "metadata": {
    "collapsed": false,
    "ExecuteTime": {
     "end_time": "2023-07-26T08:19:11.160910500Z",
     "start_time": "2023-07-26T08:19:07.622954600Z"
    }
   }
  },
  {
   "cell_type": "code",
   "execution_count": 3,
   "outputs": [],
   "source": [
    "from keras.losses import CategoricalCrossentropy\n",
    "from keras.metrics import CategoricalAccuracy\n",
    "from keras.optimizers import Adam\n",
    "\n",
    "model.compile(loss=CategoricalCrossentropy(name='crossentropy'),\n",
    "              optimizer=Adam(learning_rate=learning_rate),\n",
    "              metrics=[CategoricalAccuracy(name='accuracy')])\n"
   ],
   "metadata": {
    "collapsed": false,
    "ExecuteTime": {
     "end_time": "2023-07-26T08:19:11.192219700Z",
     "start_time": "2023-07-26T08:19:11.160910500Z"
    }
   }
  },
  {
   "cell_type": "code",
   "execution_count": 4,
   "outputs": [
    {
     "name": "stdout",
     "output_type": "stream",
     "text": [
      "Model: \"sleep_health_classification_model\"\n",
      "_________________________________________________________________\n",
      " Layer (type)                Output Shape              Param #   \n",
      "=================================================================\n",
      " input (InputLayer)          [(None, 21)]              0         \n",
      "                                                                 \n",
      " dense_1 (Dense)             (None, 64)                1408      \n",
      "                                                                 \n",
      " dense_2 (Dense)             (None, 32)                2080      \n",
      "                                                                 \n",
      " output (Dense)              (None, 3)                 99        \n",
      "                                                                 \n",
      "=================================================================\n",
      "Total params: 3587 (14.01 KB)\n",
      "Trainable params: 3587 (14.01 KB)\n",
      "Non-trainable params: 0 (0.00 Byte)\n",
      "_________________________________________________________________\n"
     ]
    }
   ],
   "source": [
    "model.summary()"
   ],
   "metadata": {
    "collapsed": false,
    "ExecuteTime": {
     "end_time": "2023-07-26T08:19:11.270228300Z",
     "start_time": "2023-07-26T08:19:11.192219700Z"
    }
   }
  },
  {
   "cell_type": "code",
   "execution_count": 5,
   "outputs": [
    {
     "data": {
      "image/png": "[encoded data removed]",
      "text/plain": "<IPython.core.display.Image object>"
     },
     "execution_count": 5,
     "metadata": {},
     "output_type": "execute_result"
    }
   ],
   "source": [
    "from keras.utils import plot_model\n",
    "\n",
    "plot_model(model,to_file='model/model.png', show_shapes=True,show_layer_names=True, show_layer_activations=True)"
   ],
   "metadata": {
    "collapsed": false,
    "ExecuteTime": {
     "end_time": "2023-07-26T08:19:11.551440400Z",
     "start_time": "2023-07-26T08:19:11.223453500Z"
    }
   }
  },
  {
   "cell_type": "code",
   "execution_count": 6,
   "outputs": [],
   "source": [
    "model.save(filepath='model/model_conf.keras')"
   ],
   "metadata": {
    "collapsed": false,
    "ExecuteTime": {
     "end_time": "2023-07-26T08:19:11.645139900Z",
     "start_time": "2023-07-26T08:19:11.551440400Z"
    }
   }
  }
 ],
 "metadata": {
  "kernelspec": {
   "display_name": "Python 3",
   "language": "python",
   "name": "python3"
  },
  "language_info": {
   "codemirror_mode": {
    "name": "ipython",
    "version": 2
   },
   "file_extension": ".py",
   "mimetype": "text/x-python",
   "name": "python",
   "nbconvert_exporter": "python",
   "pygments_lexer": "ipython2",
   "version": "2.7.6"
  }
 },
 "nbformat": 4,
 "nbformat_minor": 0
}
