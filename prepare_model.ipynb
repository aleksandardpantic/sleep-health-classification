{
 "cells": [
  {
   "cell_type": "code",
   "execution_count": 355,
   "outputs": [],
   "source": [
    "n0_of_features = 21\n",
    "layer_1_size = 32\n",
    "layer_2_size = 10\n",
    "layer_3_size = 5\n",
    "layer_4_size = 128\n",
    "learning_rate = 0.01\n",
    "beta1 = 0.902\n",
    "beta2 = 0.999"
   ],
   "metadata": {
    "collapsed": false,
    "ExecuteTime": {
     "end_time": "2023-07-26T17:32:12.187524200Z",
     "start_time": "2023-07-26T17:32:12.171902200Z"
    }
   }
  },
  {
   "cell_type": "code",
   "execution_count": 356,
   "outputs": [],
   "source": [
    "from keras import Input, Model\n",
    "from keras.layers import Dense\n",
    "\n",
    "\n",
    "inputs = Input(shape=(n0_of_features,), name='input')\n",
    "dense1 = Dense(layer_1_size,name='dense_1', activation='sigmoid')(inputs)\n",
    "dense2 = Dense(layer_2_size,name='dense_2', activation='relu')(dense1)\n",
    "dense3 = Dense(layer_3_size,name='dense_3', activation='relu')(dense2)\n",
    "dense4 = Dense(layer_4_size,name='dense_4', activation='sigmoid')(dense3)\n",
    "output1 = Dense(3,name='output', activation='softmax')(dense2)\n",
    "#output2 = Dense(1,name='output_other_cancer', activation='softmax')(dense3)\n",
    "\n",
    "model = Model(inputs = inputs, outputs = output1, name=\"sleep_health_classification_model\")"
   ],
   "metadata": {
    "collapsed": false,
    "ExecuteTime": {
     "end_time": "2023-07-26T17:32:12.250325100Z",
     "start_time": "2023-07-26T17:32:12.187524200Z"
    }
   }
  },
  {
   "cell_type": "code",
   "execution_count": 357,
   "outputs": [],
   "source": [
    "from keras.losses import CategoricalCrossentropy\n",
    "from keras.metrics import CategoricalAccuracy\n",
    "from keras.optimizers import Adam\n",
    "\n",
    "model.compile(loss=CategoricalCrossentropy(name='crossentropy'),\n",
    "              optimizer=Adam(learning_rate=learning_rate,beta_1=beta1,beta_2=beta2),\n",
    "              metrics=[CategoricalAccuracy(name='accuracy')])\n"
   ],
   "metadata": {
    "collapsed": false,
    "ExecuteTime": {
     "end_time": "2023-07-26T17:32:12.265946800Z",
     "start_time": "2023-07-26T17:32:12.250325100Z"
    }
   }
  },
  {
   "cell_type": "code",
   "execution_count": 358,
   "outputs": [
    {
     "name": "stdout",
     "output_type": "stream",
     "text": [
      "Model: \"sleep_health_classification_model\"\n",
      "_________________________________________________________________\n",
      " Layer (type)                Output Shape              Param #   \n",
      "=================================================================\n",
      " input (InputLayer)          [(None, 21)]              0         \n",
      "                                                                 \n",
      " dense_1 (Dense)             (None, 32)                704       \n",
      "                                                                 \n",
      " dense_2 (Dense)             (None, 10)                330       \n",
      "                                                                 \n",
      " output (Dense)              (None, 3)                 33        \n",
      "                                                                 \n",
      "=================================================================\n",
      "Total params: 1067 (4.17 KB)\n",
      "Trainable params: 1067 (4.17 KB)\n",
      "Non-trainable params: 0 (0.00 Byte)\n",
      "_________________________________________________________________\n"
     ]
    }
   ],
   "source": [
    "model.summary()"
   ],
   "metadata": {
    "collapsed": false,
    "ExecuteTime": {
     "end_time": "2023-07-26T17:32:12.312811200Z",
     "start_time": "2023-07-26T17:32:12.265946800Z"
    }
   }
  },
  {
   "cell_type": "code",
   "execution_count": 359,
   "outputs": [
    {
     "data": {
      "image/png": "[encoded data removed]",
      "text/plain": "<IPython.core.display.Image object>"
     },
     "execution_count": 359,
     "metadata": {},
     "output_type": "execute_result"
    }
   ],
   "source": [
    "from keras.utils import plot_model\n",
    "\n",
    "plot_model(model,to_file='model/model.png', show_shapes=True,show_layer_names=True, show_layer_activations=True)"
   ],
   "metadata": {
    "collapsed": false,
    "ExecuteTime": {
     "end_time": "2023-07-26T17:32:12.375296500Z",
     "start_time": "2023-07-26T17:32:12.312811200Z"
    }
   }
  },
  {
   "cell_type": "code",
   "execution_count": 360,
   "outputs": [],
   "source": [
    "model.save(filepath='model/model_conf.keras')"
   ],
   "metadata": {
    "collapsed": false,
    "ExecuteTime": {
     "end_time": "2023-07-26T17:32:12.406571500Z",
     "start_time": "2023-07-26T17:32:12.375296500Z"
    }
   }
  }
 ],
 "metadata": {
  "kernelspec": {
   "display_name": "Python 3",
   "language": "python",
   "name": "python3"
  },
  "language_info": {
   "codemirror_mode": {
    "name": "ipython",
    "version": 2
   },
   "file_extension": ".py",
   "mimetype": "text/x-python",
   "name": "python",
   "nbconvert_exporter": "python",
   "pygments_lexer": "ipython2",
   "version": "2.7.6"
  }
 },
 "nbformat": 4,
 "nbformat_minor": 0
}
